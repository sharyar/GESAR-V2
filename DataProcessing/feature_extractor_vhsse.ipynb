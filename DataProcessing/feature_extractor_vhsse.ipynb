{
 "metadata": {
  "language_info": {
   "codemirror_mode": {
    "name": "ipython",
    "version": 3
   },
   "file_extension": ".py",
   "mimetype": "text/x-python",
   "name": "python",
   "nbconvert_exporter": "python",
   "pygments_lexer": "ipython3",
   "version": "3.8.5-final"
  },
  "orig_nbformat": 2,
  "kernelspec": {
   "name": "Python 3.8.5 64-bit ('gesar-2': conda)",
   "display_name": "Python 3.8.5 64-bit ('gesar-2': conda)",
   "metadata": {
    "interpreter": {
     "hash": "3c5081eefa4da01df926249e6f4435975059f168845c6cb9d61f0fd39d7a32cb"
    }
   }
  }
 },
 "nbformat": 4,
 "nbformat_minor": 2,
 "cells": [
  {
   "cell_type": "code",
   "execution_count": 2,
   "metadata": {},
   "outputs": [],
   "source": [
    "from __future__ import division, print_function, absolute_import\n",
    "import pandas as pd\n",
    "import numpy as np\n",
    "import matplotlib.pyplot as plt\n",
    "from matplotlib import cm\n",
    "import copy\n",
    "import pickle\n",
    "import re\n",
    "from tqdm import tqdm_notebook"
   ]
  },
  {
   "cell_type": "code",
   "execution_count": 3,
   "metadata": {},
   "outputs": [],
   "source": [
    "dfvz = pd.read_csv(\"../DataFiles/FullDataSet.csv\")\n",
    "\n",
    "logDC = dfvz[['seq','log.label']]\n",
    "logDC.set_index('seq', inplace=True)\n",
    "pickle.dump(logDC, open(\"../DataFilesProcessed/logDC.pickle\", \"wb\"))\n"
   ]
  },
  {
   "cell_type": "code",
   "execution_count": 3,
   "metadata": {
    "tags": []
   },
   "outputs": [
    {
     "output_type": "stream",
     "name": "stdout",
     "text": "Data Frame Columns:\n Index(['seq', 'label', 'log.label', 'z1.1', 'z1.2', 'z1.3', 'z2.1', 'z2.2',\n       'z2.3', 'z3.1', 'z3.2', 'z3.3', 'z4.1', 'z4.2', 'z4.3',\n       'z3.linear.pred', 'z3.svm.pred', 'z3.tree.pred', 'z3.knn.pred',\n       'vhse1.1', 'vhse1.2', 'vhse1.3', 'vhse1.4', 'vhse1.5', 'vhse1.6',\n       'vhse1.7', 'vhse1.8', 'vhse2.1', 'vhse2.2', 'vhse2.3', 'vhse2.4',\n       'vhse2.5', 'vhse2.6', 'vhse2.7', 'vhse2.8', 'vhse3.1', 'vhse3.2',\n       'vhse3.3', 'vhse3.4', 'vhse3.5', 'vhse3.6', 'vhse3.7', 'vhse3.8',\n       'vhse4.1', 'vhse4.2', 'vhse4.3', 'vhse4.4', 'vhse4.5', 'vhse4.6',\n       'vhse4.7', 'vhse4.8', 'vhse.linear.pred', 'vhse.svm.pred',\n       'vhse.tree.pred', 'vhse.knn.pred'],\n      dtype='object') \n\n **********\n\nData Frame Shape: (67278, 55)\n"
    }
   ],
   "source": [
    "print('Data Frame Columns:\\n', dfvz.columns, '\\n\\n', '**********\\n')\n",
    "print('Data Frame Shape:', dfvz.shape)"
   ]
  },
  {
   "cell_type": "code",
   "execution_count": 4,
   "metadata": {},
   "outputs": [],
   "source": [
    "#correcting  vhse.4 value for N from -0.69 to +0.69 uniformly\n",
    "dfvz.loc[dfvz['vhse1.4'] == -0.69,'vhse1.4'] = 0.69\n",
    "dfvz.loc[dfvz['vhse2.4'] == -0.69,'vhse2.4'] = 0.69\n",
    "dfvz.loc[dfvz['vhse3.4'] == -0.69,'vhse3.4'] = 0.69\n",
    "dfvz.loc[dfvz['vhse4.4'] == -0.69,'vhse4.4'] = 0.69"
   ]
  },
  {
   "cell_type": "code",
   "execution_count": 5,
   "metadata": {},
   "outputs": [],
   "source": [
    "#create look up dict for vhse and z features based on base\n",
    "vhse = dict ()\n",
    "for featn in range(8):\n",
    "    pos = 2 # independent , for any base position (1 to 4)\n",
    "    base,ind = np.unique([dfvz['seq'][i][pos-1] for i in range(len(dfvz))], return_index=True) \n",
    "    val = dfvz['vhse'+ str(pos) +'.' + str(featn+1)][ind]\n",
    "    vhse[featn+1] = dict(zip(base,val))\n",
    "    \n",
    "    \n",
    "zfeat = dict ()\n",
    "featn = 1\n",
    "for featn in range(3):\n",
    "    pos = 2 # independent , for any base position (1 to 4)\n",
    "    base,ind = np.unique([dfvz['seq'][i][pos-1] for i in range(len(dfvz))], return_index=True) \n",
    "    val = dfvz['z'+ str(pos) +'.' + str(featn+1)][ind]\n",
    "    zfeat[featn+1] = dict(zip(base,val))\n",
    "    \n",
    "    \n",
    "##save this dicts"
   ]
  },
  {
   "cell_type": "code",
   "execution_count": 6,
   "metadata": {},
   "outputs": [
    {
     "output_type": "execute_result",
     "data": {
      "text/plain": "20"
     },
     "metadata": {},
     "execution_count": 6
    }
   ],
   "source": [
    "#Genearte pattern based features for sequence\n",
    "#list of amino acid codes\n",
    "aa = ['A','R','N','D','C','E','Q','G','H','I','L','K','M','F','P','S','T','W','Y','V']\n",
    "len(aa)"
   ]
  },
  {
   "cell_type": "code",
   "execution_count": 7,
   "metadata": {},
   "outputs": [],
   "source": [
    "df = dfvz.loc[:,['seq']]"
   ]
  },
  {
   "cell_type": "code",
   "execution_count": 8,
   "metadata": {},
   "outputs": [],
   "source": [
    "#Generate cross products \n",
    "import itertools\n",
    "cp3 = [p for p in itertools.product(aa, repeat=3)]\n",
    "cp2 = [p for p in itertools.product(aa, repeat=2)]\n",
    "cp1 = [p for p in itertools.product(aa, repeat=1)]"
   ]
  },
  {
   "cell_type": "code",
   "execution_count": 9,
   "metadata": {},
   "outputs": [],
   "source": [
    "#Genearate patterns\n",
    "cp3pat1 = ['.'+cp3[i][0]+cp3[i][1]+cp3[i][2] for i in range(len(cp3))]\n",
    "cp3pat2 = [cp3[i][0]+'.'+cp3[i][1]+cp3[i][2] for i in range(len(cp3))]\n",
    "cp3pat3 = [cp3[i][0]+cp3[i][1]+'.'+cp3[i][2] for i in range(len(cp3))]\n",
    "cp3pat4 = [cp3[i][0]+cp3[i][1]+cp3[i][2]+'.' for i in range(len(cp3))]"
   ]
  },
  {
   "cell_type": "code",
   "execution_count": 10,
   "metadata": {},
   "outputs": [],
   "source": [
    "cp2pat1 = ['.'+'.'+cp2[i][0]+cp2[i][1] for i in range(len(cp2))]\n",
    "cp2pat2 = ['.'+cp2[i][0]+'.'+cp2[i][1] for i in range(len(cp2))]\n",
    "cp2pat3 = ['.'+cp2[i][0]+cp2[i][1]+'.' for i in range(len(cp2))]\n",
    "\n",
    "cp2pat4 = [cp2[i][0]+'.'+'.'+cp2[i][1] for i in range(len(cp2))]\n",
    "cp2pat5 = [cp2[i][0]+'.'+cp2[i][1]+'.' for i in range(len(cp2))]\n",
    "cp2pat6 = [cp2[i][0]+cp2[i][1]+'.'+'.' for i in range(len(cp2))]"
   ]
  },
  {
   "cell_type": "code",
   "execution_count": 11,
   "metadata": {},
   "outputs": [],
   "source": [
    "cp1pat1 = ['.'+'.'+'.'+cp1[i][0] for i in range(len(cp1))]\n",
    "cp1pat2 = ['.'+'.'+cp1[i][0]+'.' for i in range(len(cp1))]\n",
    "cp1pat3 = ['.'+cp1[i][0]+'.'+'.' for i in range(len(cp1))]\n",
    "cp1pat4 = [cp1[i][0]+'.'+'.'+'.' for i in range(len(cp1))]"
   ]
  },
  {
   "cell_type": "code",
   "execution_count": 12,
   "metadata": {},
   "outputs": [],
   "source": [
    "# len(cp3pat1) #8000 .AAA etc\n",
    "# len(cp2pat1) #400 ..AA etc\n",
    "# len(cp1pat1) #20 ...A etc"
   ]
  },
  {
   "cell_type": "code",
   "execution_count": 13,
   "metadata": {},
   "outputs": [],
   "source": [
    "#look up for patterns, create feature for each pattern if present, assign value of 1 if present\n",
    "cppat_key = ['cp3pat1','cp3pat2','cp3pat3','cp3pat4','cp2pat1','cp2pat2','cp2pat3','cp2pat4','cp2pat5','cp2pat6','cp1pat1','cp1pat2','cp1pat3','cp1pat4']\n",
    "cppat_value = [cp3pat1,cp3pat2,cp3pat3,cp3pat4,cp2pat1,cp2pat2,cp2pat3,cp2pat4,cp2pat5,cp2pat6,cp1pat1,cp1pat2,cp1pat3,cp1pat4]\n",
    "cppat = dict(zip(cppat_key, cppat_value))"
   ]
  },
  {
   "cell_type": "code",
   "execution_count": 14,
   "metadata": {},
   "outputs": [
    {
     "output_type": "execute_result",
     "data": {
      "text/plain": "dict_keys(['cp3pat1', 'cp3pat2', 'cp3pat3', 'cp3pat4', 'cp2pat1', 'cp2pat2', 'cp2pat3', 'cp2pat4', 'cp2pat5', 'cp2pat6', 'cp1pat1', 'cp1pat2', 'cp1pat3', 'cp1pat4'])"
     },
     "metadata": {},
     "execution_count": 14
    }
   ],
   "source": [
    "cppat.keys()\n",
    "#save this dict"
   ]
  },
  {
   "cell_type": "code",
   "execution_count": 15,
   "metadata": {
    "tags": []
   },
   "outputs": [
    {
     "output_type": "display_data",
     "data": {
      "text/plain": "HBox(children=(HTML(value='1st Loop'), FloatProgress(value=0.0, max=14.0), HTML(value='')))",
      "application/vnd.jupyter.widget-view+json": {
       "version_major": 2,
       "version_minor": 0,
       "model_id": "cdd5dd609be748e2b49793cd85a8d83e"
      }
     },
     "metadata": {}
    },
    {
     "output_type": "stream",
     "name": "stdout",
     "text": "Adding cp3pat1 features.\n"
    },
    {
     "output_type": "display_data",
     "data": {
      "text/plain": "HBox(children=(HTML(value='2nd Loop'), FloatProgress(value=0.0, max=8000.0), HTML(value='')))",
      "application/vnd.jupyter.widget-view+json": {
       "version_major": 2,
       "version_minor": 0,
       "model_id": "72ae1c5bed154d3da49fcbd328ef73a5"
      }
     },
     "metadata": {}
    },
    {
     "output_type": "stream",
     "name": "stdout",
     "text": "100  done!\n200  done!\n300  done!\n400  done!\n500  done!\n600  done!\n700  done!\n800  done!\n900  done!\n1000  done!\n1100  done!\n1200  done!\n1300  done!\n1400  done!\n1500  done!\n1600  done!\n1700  done!\n1800  done!\n1900  done!\n2000  done!\n2100  done!\n2200  done!\n2300  done!\n2400  done!\n2500  done!\n2600  done!\n2700  done!\n2800  done!\n2900  done!\n3000  done!\n3100  done!\n3200  done!\n3300  done!\n3400  done!\n3500  done!\n3600  done!\n3700  done!\n3800  done!\n3900  done!\n4000  done!\n4100  done!\n4200  done!\n4300  done!\n4400  done!\n4500  done!\n4600  done!\n4700  done!\n4800  done!\n4900  done!\n5000  done!\n5100  done!\n5200  done!\n5300  done!\n5400  done!\n5500  done!\n5600  done!\n5700  done!\n5800  done!\n5900  done!\n6000  done!\n6100  done!\n6200  done!\n6300  done!\n6400  done!\n6500  done!\n6600  done!\n6700  done!\n6800  done!\n6900  done!\n7000  done!\n7100  done!\n7200  done!\n7300  done!\n7400  done!\n7500  done!\n7600  done!\n7700  done!\n7800  done!\n7900  done!\nAdding cp3pat2 features.\n"
    },
    {
     "output_type": "display_data",
     "data": {
      "text/plain": "HBox(children=(HTML(value='2nd Loop'), FloatProgress(value=0.0, max=8000.0), HTML(value='')))",
      "application/vnd.jupyter.widget-view+json": {
       "version_major": 2,
       "version_minor": 0,
       "model_id": "cc1c3692a4c647eab9bbc7af5a129df7"
      }
     },
     "metadata": {}
    },
    {
     "output_type": "stream",
     "name": "stdout",
     "text": "100  done!\n200  done!\n300  done!\n400  done!\n500  done!\n600  done!\n700  done!\n800  done!\n900  done!\n1000  done!\n1100  done!\n1200  done!\n1300  done!\n1400  done!\n1500  done!\n1600  done!\n1700  done!\n1800  done!\n1900  done!\n2000  done!\n2100  done!\n2200  done!\n2300  done!\n2400  done!\n2500  done!\n2600  done!\n2700  done!\n2800  done!\n2900  done!\n3000  done!\n3100  done!\n3200  done!\n3300  done!\n3400  done!\n3500  done!\n3600  done!\n3700  done!\n3800  done!\n3900  done!\n4000  done!\n4100  done!\n4200  done!\n4300  done!\n4400  done!\n4500  done!\n4600  done!\n4700  done!\n4800  done!\n4900  done!\n5000  done!\n5100  done!\n5200  done!\n5300  done!\n5400  done!\n5500  done!\n5600  done!\n5700  done!\n5800  done!\n5900  done!\n6000  done!\n6100  done!\n6200  done!\n6300  done!\n6400  done!\n6500  done!\n6600  done!\n6700  done!\n6800  done!\n6900  done!\n7000  done!\n7100  done!\n7200  done!\n7300  done!\n7400  done!\n7500  done!\n7600  done!\n7700  done!\n7800  done!\n7900  done!\nAdding cp3pat3 features.\n"
    },
    {
     "output_type": "display_data",
     "data": {
      "text/plain": "HBox(children=(HTML(value='2nd Loop'), FloatProgress(value=0.0, max=8000.0), HTML(value='')))",
      "application/vnd.jupyter.widget-view+json": {
       "version_major": 2,
       "version_minor": 0,
       "model_id": "5083e226238f4af38f44b529a9ea3fc3"
      }
     },
     "metadata": {}
    },
    {
     "output_type": "stream",
     "name": "stdout",
     "text": "100  done!\n200  done!\n300  done!\n400  done!\n500  done!\n600  done!\n700  done!\n800  done!\n900  done!\n1000  done!\n1100  done!\n1200  done!\n1300  done!\n1400  done!\n1500  done!\n1600  done!\n1700  done!\n1800  done!\n1900  done!\n2000  done!\n2100  done!\n2200  done!\n2300  done!\n2400  done!\n2500  done!\n2600  done!\n2700  done!\n2800  done!\n2900  done!\n3000  done!\n3100  done!\n3200  done!\n3300  done!\n3400  done!\n3500  done!\n3600  done!\n3700  done!\n3800  done!\n3900  done!\n4000  done!\n4100  done!\n4200  done!\n4300  done!\n4400  done!\n4500  done!\n4600  done!\n4700  done!\n4800  done!\n4900  done!\n5000  done!\n5100  done!\n5200  done!\n5300  done!\n5400  done!\n5500  done!\n5600  done!\n5700  done!\n5800  done!\n5900  done!\n6000  done!\n6100  done!\n6200  done!\n6300  done!\n6400  done!\n6500  done!\n6600  done!\n6700  done!\n6800  done!\n6900  done!\n7000  done!\n7100  done!\n7200  done!\n7300  done!\n7400  done!\n7500  done!\n7600  done!\n7700  done!\n7800  done!\n7900  done!\nAdding cp3pat4 features.\n"
    },
    {
     "output_type": "display_data",
     "data": {
      "text/plain": "HBox(children=(HTML(value='2nd Loop'), FloatProgress(value=0.0, max=8000.0), HTML(value='')))",
      "application/vnd.jupyter.widget-view+json": {
       "version_major": 2,
       "version_minor": 0,
       "model_id": "dd3c4fe881a1401691f76df28f3e8446"
      }
     },
     "metadata": {}
    },
    {
     "output_type": "stream",
     "name": "stdout",
     "text": "100  done!\n200  done!\n300  done!\n400  done!\n500  done!\n600  done!\n700  done!\n800  done!\n900  done!\n1000  done!\n1100  done!\n1200  done!\n1300  done!\n1400  done!\n1500  done!\n1600  done!\n1700  done!\n1800  done!\n1900  done!\n2000  done!\n2100  done!\n2200  done!\n2300  done!\n2400  done!\n2500  done!\n2600  done!\n2700  done!\n2800  done!\n2900  done!\n3000  done!\n3100  done!\n3200  done!\n3300  done!\n3400  done!\n3500  done!\n3600  done!\n3700  done!\n3800  done!\n3900  done!\n4000  done!\n4100  done!\n4200  done!\n4300  done!\n4400  done!\n4500  done!\n4600  done!\n4700  done!\n4800  done!\n4900  done!\n5000  done!\n5100  done!\n5200  done!\n5300  done!\n5400  done!\n5500  done!\n5600  done!\n5700  done!\n5800  done!\n5900  done!\n6000  done!\n6100  done!\n6200  done!\n6300  done!\n6400  done!\n6500  done!\n6600  done!\n6700  done!\n6800  done!\n6900  done!\n7000  done!\n7100  done!\n7200  done!\n7300  done!\n7400  done!\n7500  done!\n7600  done!\n7700  done!\n7800  done!\n7900  done!\nAdding cp2pat1 features.\n"
    },
    {
     "output_type": "display_data",
     "data": {
      "text/plain": "HBox(children=(HTML(value='2nd Loop'), FloatProgress(value=0.0, max=400.0), HTML(value='')))",
      "application/vnd.jupyter.widget-view+json": {
       "version_major": 2,
       "version_minor": 0,
       "model_id": "c9469f6800654f20b19d03c254ec0f4f"
      }
     },
     "metadata": {}
    },
    {
     "output_type": "stream",
     "name": "stdout",
     "text": "100  done!\n200  done!\n300  done!\nAdding cp2pat2 features.\n"
    },
    {
     "output_type": "display_data",
     "data": {
      "text/plain": "HBox(children=(HTML(value='2nd Loop'), FloatProgress(value=0.0, max=400.0), HTML(value='')))",
      "application/vnd.jupyter.widget-view+json": {
       "version_major": 2,
       "version_minor": 0,
       "model_id": "ba0b712ba90a423e80fe59af256cdedc"
      }
     },
     "metadata": {}
    },
    {
     "output_type": "stream",
     "name": "stdout",
     "text": "100  done!\n200  done!\n300  done!\nAdding cp2pat3 features.\n"
    },
    {
     "output_type": "display_data",
     "data": {
      "text/plain": "HBox(children=(HTML(value='2nd Loop'), FloatProgress(value=0.0, max=400.0), HTML(value='')))",
      "application/vnd.jupyter.widget-view+json": {
       "version_major": 2,
       "version_minor": 0,
       "model_id": "efd6828c65f948fd82316928fe976cd4"
      }
     },
     "metadata": {}
    },
    {
     "output_type": "stream",
     "name": "stdout",
     "text": "100  done!\n200  done!\n300  done!\nAdding cp2pat4 features.\n"
    },
    {
     "output_type": "display_data",
     "data": {
      "text/plain": "HBox(children=(HTML(value='2nd Loop'), FloatProgress(value=0.0, max=400.0), HTML(value='')))",
      "application/vnd.jupyter.widget-view+json": {
       "version_major": 2,
       "version_minor": 0,
       "model_id": "a55be0c77555453d8b35b172a23657d4"
      }
     },
     "metadata": {}
    },
    {
     "output_type": "stream",
     "name": "stdout",
     "text": "100  done!\n200  done!\n300  done!\nAdding cp2pat5 features.\n"
    },
    {
     "output_type": "display_data",
     "data": {
      "text/plain": "HBox(children=(HTML(value='2nd Loop'), FloatProgress(value=0.0, max=400.0), HTML(value='')))",
      "application/vnd.jupyter.widget-view+json": {
       "version_major": 2,
       "version_minor": 0,
       "model_id": "b51c3224fc1c462083a8fe74a6950fda"
      }
     },
     "metadata": {}
    },
    {
     "output_type": "stream",
     "name": "stdout",
     "text": "100  done!\n200  done!\n300  done!\nAdding cp2pat6 features.\n"
    },
    {
     "output_type": "display_data",
     "data": {
      "text/plain": "HBox(children=(HTML(value='2nd Loop'), FloatProgress(value=0.0, max=400.0), HTML(value='')))",
      "application/vnd.jupyter.widget-view+json": {
       "version_major": 2,
       "version_minor": 0,
       "model_id": "a2ee90b18c3f498a981a5ab876c14d1c"
      }
     },
     "metadata": {}
    },
    {
     "output_type": "stream",
     "name": "stdout",
     "text": "100  done!\n200  done!\n300  done!\nAdding cp1pat1 features.\n"
    },
    {
     "output_type": "display_data",
     "data": {
      "text/plain": "HBox(children=(HTML(value='2nd Loop'), FloatProgress(value=0.0, max=20.0), HTML(value='')))",
      "application/vnd.jupyter.widget-view+json": {
       "version_major": 2,
       "version_minor": 0,
       "model_id": "6da3ed2c2256419185ece39b37e1b796"
      }
     },
     "metadata": {}
    },
    {
     "output_type": "stream",
     "name": "stdout",
     "text": "Adding cp1pat2 features.\n"
    },
    {
     "output_type": "display_data",
     "data": {
      "text/plain": "HBox(children=(HTML(value='2nd Loop'), FloatProgress(value=0.0, max=20.0), HTML(value='')))",
      "application/vnd.jupyter.widget-view+json": {
       "version_major": 2,
       "version_minor": 0,
       "model_id": "e1d877750dc5433f875c05992d0f8bed"
      }
     },
     "metadata": {}
    },
    {
     "output_type": "stream",
     "name": "stdout",
     "text": "Adding cp1pat3 features.\n"
    },
    {
     "output_type": "display_data",
     "data": {
      "text/plain": "HBox(children=(HTML(value='2nd Loop'), FloatProgress(value=0.0, max=20.0), HTML(value='')))",
      "application/vnd.jupyter.widget-view+json": {
       "version_major": 2,
       "version_minor": 0,
       "model_id": "03c5265f691044ba9c9e21a5e5722b13"
      }
     },
     "metadata": {}
    },
    {
     "output_type": "stream",
     "name": "stdout",
     "text": "Adding cp1pat4 features.\n"
    },
    {
     "output_type": "display_data",
     "data": {
      "text/plain": "HBox(children=(HTML(value='2nd Loop'), FloatProgress(value=0.0, max=20.0), HTML(value='')))",
      "application/vnd.jupyter.widget-view+json": {
       "version_major": 2,
       "version_minor": 0,
       "model_id": "527da10c8ffe4139841278ba344abb35"
      }
     },
     "metadata": {}
    },
    {
     "output_type": "stream",
     "name": "stdout",
     "text": "\n"
    }
   ],
   "source": [
    "\n",
    "#faster\n",
    "for k, cppats in tqdm_notebook(cppat.items(), desc='1st Loop'):\n",
    "    print('Adding ' + str(k) +' features.')\n",
    "    thr =100\n",
    "    for c,pat in enumerate(tqdm_notebook(cppats, desc='2nd Loop', leave=False)):\n",
    "        if c == thr:\n",
    "            print(str(c) +'  done!')\n",
    "            thr = thr +100\n",
    "        rematch = [re.search(pat,s) for s in df['seq']]\n",
    "        df[pat] = rematch"
   ]
  },
  {
   "cell_type": "code",
   "execution_count": 16,
   "metadata": {},
   "outputs": [
    {
     "output_type": "execute_result",
     "data": {
      "text/plain": "20"
     },
     "metadata": {},
     "execution_count": 16
    }
   ],
   "source": [
    "len(cppats)"
   ]
  },
  {
   "cell_type": "code",
   "execution_count": 17,
   "metadata": {},
   "outputs": [
    {
     "output_type": "execute_result",
     "data": {
      "text/plain": "       .AAA  .AAR  .AAN  .AAD  .AAC  .AAE  .AAQ  .AAG  .AAH  .AAI  ...  \\\n0      None  None  None  None  None  None  None  None  None  None  ...   \n1      None  None  None  None  None  None  None  None  None  None  ...   \n2      None  None  None  None  None  None  None  None  None  None  ...   \n3      None  None  None  None  None  None  None  None  None  None  ...   \n4      None  None  None  None  None  None  None  None  None  None  ...   \n...     ...   ...   ...   ...   ...   ...   ...   ...   ...   ...  ...   \n67273  None  None  None  None  None  None  None  None  None  None  ...   \n67274  None  None  None  None  None  None  None  None  None  None  ...   \n67275  None  None  None  None  None  None  None  None  None  None  ...   \n67276  None  None  None  None  None  None  None  None  None  None  ...   \n67277  None  None  None  None  None  None  None  None  None  None  ...   \n\n                                               L...  \\\n0                                              None   \n1                                              None   \n2                                              None   \n3                                              None   \n4      <re.Match object; span=(0, 4), match='LHFR'>   \n...                                             ...   \n67273                                          None   \n67274                                          None   \n67275                                          None   \n67276                                          None   \n67277                                          None   \n\n                                               K...  M...  F...  P...  S...  \\\n0                                              None  None  None  None  None   \n1                                              None  None  None  None  None   \n2      <re.Match object; span=(0, 4), match='KNML'>  None  None  None  None   \n3      <re.Match object; span=(0, 4), match='KTIA'>  None  None  None  None   \n4                                              None  None  None  None  None   \n...                                             ...   ...   ...   ...   ...   \n67273                                          None  None  None  None  None   \n67274                                          None  None  None  None  None   \n67275                                          None  None  None  None  None   \n67276                                          None  None  None  None  None   \n67277                                          None  None  None  None  None   \n\n                                               T...  W...  \\\n0      <re.Match object; span=(0, 4), match='TVPT'>  None   \n1                                              None  None   \n2                                              None  None   \n3                                              None  None   \n4                                              None  None   \n...                                             ...   ...   \n67273                                          None  None   \n67274                                          None  None   \n67275                                          None  None   \n67276                                          None  None   \n67277                                          None  None   \n\n                                               Y...  \\\n0                                              None   \n1                                              None   \n2                                              None   \n3                                              None   \n4                                              None   \n...                                             ...   \n67273                                          None   \n67274  <re.Match object; span=(0, 4), match='YDYL'>   \n67275  <re.Match object; span=(0, 4), match='YFLA'>   \n67276  <re.Match object; span=(0, 4), match='YPNC'>   \n67277  <re.Match object; span=(0, 4), match='YPPW'>   \n\n                                               V...  \n0                                              None  \n1      <re.Match object; span=(0, 4), match='VYVY'>  \n2                                              None  \n3                                              None  \n4                                              None  \n...                                             ...  \n67273  <re.Match object; span=(0, 4), match='VWVL'>  \n67274                                          None  \n67275                                          None  \n67276                                          None  \n67277                                          None  \n\n[67278 rows x 34480 columns]",
      "text/html": "<div>\n<style scoped>\n    .dataframe tbody tr th:only-of-type {\n        vertical-align: middle;\n    }\n\n    .dataframe tbody tr th {\n        vertical-align: top;\n    }\n\n    .dataframe thead th {\n        text-align: right;\n    }\n</style>\n<table border=\"1\" class=\"dataframe\">\n  <thead>\n    <tr style=\"text-align: right;\">\n      <th></th>\n      <th>.AAA</th>\n      <th>.AAR</th>\n      <th>.AAN</th>\n      <th>.AAD</th>\n      <th>.AAC</th>\n      <th>.AAE</th>\n      <th>.AAQ</th>\n      <th>.AAG</th>\n      <th>.AAH</th>\n      <th>.AAI</th>\n      <th>...</th>\n      <th>L...</th>\n      <th>K...</th>\n      <th>M...</th>\n      <th>F...</th>\n      <th>P...</th>\n      <th>S...</th>\n      <th>T...</th>\n      <th>W...</th>\n      <th>Y...</th>\n      <th>V...</th>\n    </tr>\n  </thead>\n  <tbody>\n    <tr>\n      <th>0</th>\n      <td>None</td>\n      <td>None</td>\n      <td>None</td>\n      <td>None</td>\n      <td>None</td>\n      <td>None</td>\n      <td>None</td>\n      <td>None</td>\n      <td>None</td>\n      <td>None</td>\n      <td>...</td>\n      <td>None</td>\n      <td>None</td>\n      <td>None</td>\n      <td>None</td>\n      <td>None</td>\n      <td>None</td>\n      <td>&lt;re.Match object; span=(0, 4), match='TVPT'&gt;</td>\n      <td>None</td>\n      <td>None</td>\n      <td>None</td>\n    </tr>\n    <tr>\n      <th>1</th>\n      <td>None</td>\n      <td>None</td>\n      <td>None</td>\n      <td>None</td>\n      <td>None</td>\n      <td>None</td>\n      <td>None</td>\n      <td>None</td>\n      <td>None</td>\n      <td>None</td>\n      <td>...</td>\n      <td>None</td>\n      <td>None</td>\n      <td>None</td>\n      <td>None</td>\n      <td>None</td>\n      <td>None</td>\n      <td>None</td>\n      <td>None</td>\n      <td>None</td>\n      <td>&lt;re.Match object; span=(0, 4), match='VYVY'&gt;</td>\n    </tr>\n    <tr>\n      <th>2</th>\n      <td>None</td>\n      <td>None</td>\n      <td>None</td>\n      <td>None</td>\n      <td>None</td>\n      <td>None</td>\n      <td>None</td>\n      <td>None</td>\n      <td>None</td>\n      <td>None</td>\n      <td>...</td>\n      <td>None</td>\n      <td>&lt;re.Match object; span=(0, 4), match='KNML'&gt;</td>\n      <td>None</td>\n      <td>None</td>\n      <td>None</td>\n      <td>None</td>\n      <td>None</td>\n      <td>None</td>\n      <td>None</td>\n      <td>None</td>\n    </tr>\n    <tr>\n      <th>3</th>\n      <td>None</td>\n      <td>None</td>\n      <td>None</td>\n      <td>None</td>\n      <td>None</td>\n      <td>None</td>\n      <td>None</td>\n      <td>None</td>\n      <td>None</td>\n      <td>None</td>\n      <td>...</td>\n      <td>None</td>\n      <td>&lt;re.Match object; span=(0, 4), match='KTIA'&gt;</td>\n      <td>None</td>\n      <td>None</td>\n      <td>None</td>\n      <td>None</td>\n      <td>None</td>\n      <td>None</td>\n      <td>None</td>\n      <td>None</td>\n    </tr>\n    <tr>\n      <th>4</th>\n      <td>None</td>\n      <td>None</td>\n      <td>None</td>\n      <td>None</td>\n      <td>None</td>\n      <td>None</td>\n      <td>None</td>\n      <td>None</td>\n      <td>None</td>\n      <td>None</td>\n      <td>...</td>\n      <td>&lt;re.Match object; span=(0, 4), match='LHFR'&gt;</td>\n      <td>None</td>\n      <td>None</td>\n      <td>None</td>\n      <td>None</td>\n      <td>None</td>\n      <td>None</td>\n      <td>None</td>\n      <td>None</td>\n      <td>None</td>\n    </tr>\n    <tr>\n      <th>...</th>\n      <td>...</td>\n      <td>...</td>\n      <td>...</td>\n      <td>...</td>\n      <td>...</td>\n      <td>...</td>\n      <td>...</td>\n      <td>...</td>\n      <td>...</td>\n      <td>...</td>\n      <td>...</td>\n      <td>...</td>\n      <td>...</td>\n      <td>...</td>\n      <td>...</td>\n      <td>...</td>\n      <td>...</td>\n      <td>...</td>\n      <td>...</td>\n      <td>...</td>\n      <td>...</td>\n    </tr>\n    <tr>\n      <th>67273</th>\n      <td>None</td>\n      <td>None</td>\n      <td>None</td>\n      <td>None</td>\n      <td>None</td>\n      <td>None</td>\n      <td>None</td>\n      <td>None</td>\n      <td>None</td>\n      <td>None</td>\n      <td>...</td>\n      <td>None</td>\n      <td>None</td>\n      <td>None</td>\n      <td>None</td>\n      <td>None</td>\n      <td>None</td>\n      <td>None</td>\n      <td>None</td>\n      <td>None</td>\n      <td>&lt;re.Match object; span=(0, 4), match='VWVL'&gt;</td>\n    </tr>\n    <tr>\n      <th>67274</th>\n      <td>None</td>\n      <td>None</td>\n      <td>None</td>\n      <td>None</td>\n      <td>None</td>\n      <td>None</td>\n      <td>None</td>\n      <td>None</td>\n      <td>None</td>\n      <td>None</td>\n      <td>...</td>\n      <td>None</td>\n      <td>None</td>\n      <td>None</td>\n      <td>None</td>\n      <td>None</td>\n      <td>None</td>\n      <td>None</td>\n      <td>None</td>\n      <td>&lt;re.Match object; span=(0, 4), match='YDYL'&gt;</td>\n      <td>None</td>\n    </tr>\n    <tr>\n      <th>67275</th>\n      <td>None</td>\n      <td>None</td>\n      <td>None</td>\n      <td>None</td>\n      <td>None</td>\n      <td>None</td>\n      <td>None</td>\n      <td>None</td>\n      <td>None</td>\n      <td>None</td>\n      <td>...</td>\n      <td>None</td>\n      <td>None</td>\n      <td>None</td>\n      <td>None</td>\n      <td>None</td>\n      <td>None</td>\n      <td>None</td>\n      <td>None</td>\n      <td>&lt;re.Match object; span=(0, 4), match='YFLA'&gt;</td>\n      <td>None</td>\n    </tr>\n    <tr>\n      <th>67276</th>\n      <td>None</td>\n      <td>None</td>\n      <td>None</td>\n      <td>None</td>\n      <td>None</td>\n      <td>None</td>\n      <td>None</td>\n      <td>None</td>\n      <td>None</td>\n      <td>None</td>\n      <td>...</td>\n      <td>None</td>\n      <td>None</td>\n      <td>None</td>\n      <td>None</td>\n      <td>None</td>\n      <td>None</td>\n      <td>None</td>\n      <td>None</td>\n      <td>&lt;re.Match object; span=(0, 4), match='YPNC'&gt;</td>\n      <td>None</td>\n    </tr>\n    <tr>\n      <th>67277</th>\n      <td>None</td>\n      <td>None</td>\n      <td>None</td>\n      <td>None</td>\n      <td>None</td>\n      <td>None</td>\n      <td>None</td>\n      <td>None</td>\n      <td>None</td>\n      <td>None</td>\n      <td>...</td>\n      <td>None</td>\n      <td>None</td>\n      <td>None</td>\n      <td>None</td>\n      <td>None</td>\n      <td>None</td>\n      <td>None</td>\n      <td>None</td>\n      <td>&lt;re.Match object; span=(0, 4), match='YPPW'&gt;</td>\n      <td>None</td>\n    </tr>\n  </tbody>\n</table>\n<p>67278 rows × 34480 columns</p>\n</div>"
     },
     "metadata": {},
     "execution_count": 17
    }
   ],
   "source": [
    "#dfcopy = copy.deepcopy(df)\n",
    "dfcopy = df\n",
    "\n",
    "#dfcopy.iloc[:,:3]\n",
    "dfcopy.iloc[:,1:]"
   ]
  },
  {
   "cell_type": "code",
   "execution_count": 18,
   "metadata": {},
   "outputs": [],
   "source": [
    "df_bool=pd.notnull(dfcopy.iloc[:,1:])"
   ]
  },
  {
   "cell_type": "code",
   "execution_count": 19,
   "metadata": {},
   "outputs": [],
   "source": [
    "df_bool['seq'] = dfcopy['seq']\n",
    "df_bool['label'] = dfvz['label']\n",
    "df_bool['log.label'] = dfvz['log.label']"
   ]
  },
  {
   "cell_type": "code",
   "execution_count": 20,
   "metadata": {},
   "outputs": [],
   "source": [
    "df_bool.to_pickle('df_bool.pkl')"
   ]
  },
  {
   "cell_type": "code",
   "execution_count": 21,
   "metadata": {},
   "outputs": [],
   "source": [
    "#df_int = copy.deepcopy(df_bool)\n",
    "df_int = df_bool"
   ]
  },
  {
   "cell_type": "code",
   "execution_count": 22,
   "metadata": {},
   "outputs": [],
   "source": [
    "df_int = df_int.applymap(lambda x: 1 if x == True else x)\n",
    "df_int = df_int.applymap(lambda x: 0 if x == False else x)"
   ]
  },
  {
   "cell_type": "code",
   "execution_count": 23,
   "metadata": {},
   "outputs": [],
   "source": [
    "df_int.to_csv('df_int.csv')"
   ]
  },
  {
   "cell_type": "code",
   "execution_count": 24,
   "metadata": {},
   "outputs": [],
   "source": [
    "#get column sums\n",
    "dfs = df_int.sum(axis=0)"
   ]
  },
  {
   "cell_type": "code",
   "execution_count": 25,
   "metadata": {},
   "outputs": [],
   "source": [
    "def getselcol(dfsum,thr):\n",
    "    selcol = [dfsum[:-3].values>thr]# keep only features with alteast 'thr' number of sequences\n",
    "    selcol = np.array(selcol)\n",
    "    selcol = np.append(selcol,np.array([True,True, False])) #add sequence and label columns\n",
    "    # selcol = np.insert(selcol, 0, True)\n",
    "    return selcol"
   ]
  },
  {
   "cell_type": "code",
   "execution_count": 26,
   "metadata": {},
   "outputs": [],
   "source": [
    "dfs_sel = [dfs[:-3].values>thr]"
   ]
  },
  {
   "cell_type": "code",
   "execution_count": 27,
   "metadata": {},
   "outputs": [
    {
     "output_type": "execute_result",
     "data": {
      "text/plain": "[array([False, False, False, ...,  True,  True,  True])]"
     },
     "metadata": {},
     "execution_count": 27
    }
   ],
   "source": [
    "dfs_sel"
   ]
  },
  {
   "cell_type": "code",
   "execution_count": 28,
   "metadata": {},
   "outputs": [],
   "source": [
    "dfs_sel = np.array(dfs_sel)"
   ]
  },
  {
   "cell_type": "code",
   "execution_count": 29,
   "metadata": {},
   "outputs": [
    {
     "output_type": "execute_result",
     "data": {
      "text/plain": "array([[False, False, False, ...,  True,  True,  True]])"
     },
     "metadata": {},
     "execution_count": 29
    }
   ],
   "source": [
    "dfs_sel"
   ]
  },
  {
   "cell_type": "code",
   "execution_count": 30,
   "metadata": {},
   "outputs": [
    {
     "output_type": "execute_result",
     "data": {
      "text/plain": "array([False, False, False, ...,  True,  True, False])"
     },
     "metadata": {},
     "execution_count": 30
    }
   ],
   "source": [
    "np.append(dfs_sel, np.array([True, True, False]))"
   ]
  },
  {
   "cell_type": "code",
   "execution_count": 31,
   "metadata": {},
   "outputs": [
    {
     "output_type": "execute_result",
     "data": {
      "text/plain": ".AAA      17\n.AAR      16\n.AAN      11\n.AAD      11\n.AAC       6\n        ... \nS...    4839\nT...    4492\nW...    3060\nY...    2958\nV...    4820\nLength: 34480, dtype: object"
     },
     "metadata": {},
     "execution_count": 31
    }
   ],
   "source": [
    "dfs[:-3]"
   ]
  },
  {
   "cell_type": "code",
   "execution_count": 32,
   "metadata": {},
   "outputs": [
    {
     "output_type": "execute_result",
     "data": {
      "text/plain": ".AAA                                                        17\n.AAR                                                        16\n.AAN                                                        11\n.AAD                                                        11\n.AAC                                                         6\n                                   ...                        \nY...                                                      2958\nV...                                                      4820\nseq          TVPTVYVYKNMLKTIALHFRRPDFELIWQSGMVGTYHSKSFYLNSN...\nlabel                                                  137.808\nlog.label                                              -186967\nLength: 34483, dtype: object"
     },
     "metadata": {},
     "execution_count": 32
    }
   ],
   "source": [
    "dfs"
   ]
  },
  {
   "cell_type": "code",
   "execution_count": 33,
   "metadata": {},
   "outputs": [
    {
     "output_type": "execute_result",
     "data": {
      "text/plain": "Text(0, 0.5, 'number of features')"
     },
     "metadata": {},
     "execution_count": 33
    },
    {
     "output_type": "display_data",
     "data": {
      "text/plain": "<Figure size 432x288 with 1 Axes>",
      "image/svg+xml": "<?xml version=\"1.0\" encoding=\"utf-8\" standalone=\"no\"?>\r\n<!DOCTYPE svg PUBLIC \"-//W3C//DTD SVG 1.1//EN\"\r\n  \"http://www.w3.org/Graphics/SVG/1.1/DTD/svg11.dtd\">\r\n<!-- Created with matplotlib (https://matplotlib.org/) -->\r\n<svg height=\"262.19625pt\" version=\"1.1\" viewBox=\"0 0 401.690625 262.19625\" width=\"401.690625pt\" xmlns=\"http://www.w3.org/2000/svg\" xmlns:xlink=\"http://www.w3.org/1999/xlink\">\r\n <metadata>\r\n  <rdf:RDF xmlns:cc=\"http://creativecommons.org/ns#\" xmlns:dc=\"http://purl.org/dc/elements/1.1/\" xmlns:rdf=\"http://www.w3.org/1999/02/22-rdf-syntax-ns#\">\r\n   <cc:Work>\r\n    <dc:type rdf:resource=\"http://purl.org/dc/dcmitype/StillImage\"/>\r\n    <dc:date>2020-09-29T03:58:41.144568</dc:date>\r\n    <dc:format>image/svg+xml</dc:format>\r\n    <dc:creator>\r\n     <cc:Agent>\r\n      <dc:title>Matplotlib v3.3.1, https://matplotlib.org/</dc:title>\r\n     </cc:Agent>\r\n    </dc:creator>\r\n   </cc:Work>\r\n  </rdf:RDF>\r\n </metadata>\r\n <defs>\r\n  <style type=\"text/css\">*{stroke-linecap:butt;stroke-linejoin:round;}</style>\r\n </defs>\r\n <g id=\"figure_1\">\r\n  <g id=\"patch_1\">\r\n   <path d=\"M 0 262.19625 \r\nL 401.690625 262.19625 \r\nL 401.690625 0 \r\nL 0 0 \r\nz\r\n\" style=\"fill:none;\"/>\r\n  </g>\r\n  <g id=\"axes_1\">\r\n   <g id=\"patch_2\">\r\n    <path d=\"M 59.690625 224.64 \r\nL 394.490625 224.64 \r\nL 394.490625 7.2 \r\nL 59.690625 7.2 \r\nz\r\n\" style=\"fill:#ffffff;\"/>\r\n   </g>\r\n   <g id=\"PathCollection_1\">\r\n    <defs>\r\n     <path d=\"M 0 3 \r\nC 0.795609 3 1.55874 2.683901 2.12132 2.12132 \r\nC 2.683901 1.55874 3 0.795609 3 0 \r\nC 3 -0.795609 2.683901 -1.55874 2.12132 -2.12132 \r\nC 1.55874 -2.683901 0.795609 -3 0 -3 \r\nC -0.795609 -3 -1.55874 -2.683901 -2.12132 -2.12132 \r\nC -2.683901 -1.55874 -3 -0.795609 -3 0 \r\nC -3 0.795609 -2.683901 1.55874 -2.12132 2.12132 \r\nC -1.55874 2.683901 -0.795609 3 0 3 \r\nz\r\n\" id=\"m89c2b535ce\" style=\"stroke:#1f77b4;\"/>\r\n    </defs>\r\n    <g clip-path=\"url(#p4316e055a9)\">\r\n     <use style=\"fill:#1f77b4;stroke:#1f77b4;\" x=\"74.908807\" xlink:href=\"#m89c2b535ce\" y=\"17.083636\"/>\r\n     <use style=\"fill:#1f77b4;stroke:#1f77b4;\" x=\"77.952443\" xlink:href=\"#m89c2b535ce\" y=\"27.36503\"/>\r\n     <use style=\"fill:#1f77b4;stroke:#1f77b4;\" x=\"80.99608\" xlink:href=\"#m89c2b535ce\" y=\"36.774896\"/>\r\n     <use style=\"fill:#1f77b4;stroke:#1f77b4;\" x=\"84.039716\" xlink:href=\"#m89c2b535ce\" y=\"45.6933\"/>\r\n     <use style=\"fill:#1f77b4;stroke:#1f77b4;\" x=\"87.083352\" xlink:href=\"#m89c2b535ce\" y=\"56.328547\"/>\r\n     <use style=\"fill:#1f77b4;stroke:#1f77b4;\" x=\"90.126989\" xlink:href=\"#m89c2b535ce\" y=\"68.307123\"/>\r\n     <use style=\"fill:#1f77b4;stroke:#1f77b4;\" x=\"93.170625\" xlink:href=\"#m89c2b535ce\" y=\"81.51108\"/>\r\n     <use style=\"fill:#1f77b4;stroke:#1f77b4;\" x=\"96.214261\" xlink:href=\"#m89c2b535ce\" y=\"95.389978\"/>\r\n     <use style=\"fill:#1f77b4;stroke:#1f77b4;\" x=\"99.257898\" xlink:href=\"#m89c2b535ce\" y=\"109.622729\"/>\r\n     <use style=\"fill:#1f77b4;stroke:#1f77b4;\" x=\"102.301534\" xlink:href=\"#m89c2b535ce\" y=\"124.045512\"/>\r\n     <use style=\"fill:#1f77b4;stroke:#1f77b4;\" x=\"105.34517\" xlink:href=\"#m89c2b535ce\" y=\"137.380524\"/>\r\n     <use style=\"fill:#1f77b4;stroke:#1f77b4;\" x=\"108.388807\" xlink:href=\"#m89c2b535ce\" y=\"150.407554\"/>\r\n     <use style=\"fill:#1f77b4;stroke:#1f77b4;\" x=\"111.432443\" xlink:href=\"#m89c2b535ce\" y=\"162.373025\"/>\r\n     <use style=\"fill:#1f77b4;stroke:#1f77b4;\" x=\"114.47608\" xlink:href=\"#m89c2b535ce\" y=\"173.257279\"/>\r\n     <use style=\"fill:#1f77b4;stroke:#1f77b4;\" x=\"117.519716\" xlink:href=\"#m89c2b535ce\" y=\"182.922706\"/>\r\n     <use style=\"fill:#1f77b4;stroke:#1f77b4;\" x=\"120.563352\" xlink:href=\"#m89c2b535ce\" y=\"191.461046\"/>\r\n     <use style=\"fill:#1f77b4;stroke:#1f77b4;\" x=\"123.606989\" xlink:href=\"#m89c2b535ce\" y=\"198.466024\"/>\r\n     <use style=\"fill:#1f77b4;stroke:#1f77b4;\" x=\"126.650625\" xlink:href=\"#m89c2b535ce\" y=\"204.317702\"/>\r\n     <use style=\"fill:#1f77b4;stroke:#1f77b4;\" x=\"129.694261\" xlink:href=\"#m89c2b535ce\" y=\"208.511515\"/>\r\n     <use style=\"fill:#1f77b4;stroke:#1f77b4;\" x=\"132.737898\" xlink:href=\"#m89c2b535ce\" y=\"211.204729\"/>\r\n     <use style=\"fill:#1f77b4;stroke:#1f77b4;\" x=\"135.781534\" xlink:href=\"#m89c2b535ce\" y=\"212.639799\"/>\r\n     <use style=\"fill:#1f77b4;stroke:#1f77b4;\" x=\"138.82517\" xlink:href=\"#m89c2b535ce\" y=\"212.652905\"/>\r\n     <use style=\"fill:#1f77b4;stroke:#1f77b4;\" x=\"141.868807\" xlink:href=\"#m89c2b535ce\" y=\"212.705327\"/>\r\n     <use style=\"fill:#1f77b4;stroke:#1f77b4;\" x=\"144.912443\" xlink:href=\"#m89c2b535ce\" y=\"212.738091\"/>\r\n     <use style=\"fill:#1f77b4;stroke:#1f77b4;\" x=\"147.95608\" xlink:href=\"#m89c2b535ce\" y=\"212.797067\"/>\r\n     <use style=\"fill:#1f77b4;stroke:#1f77b4;\" x=\"150.999716\" xlink:href=\"#m89c2b535ce\" y=\"212.829831\"/>\r\n     <use style=\"fill:#1f77b4;stroke:#1f77b4;\" x=\"154.043352\" xlink:href=\"#m89c2b535ce\" y=\"212.856042\"/>\r\n     <use style=\"fill:#1f77b4;stroke:#1f77b4;\" x=\"157.086989\" xlink:href=\"#m89c2b535ce\" y=\"212.888807\"/>\r\n     <use style=\"fill:#1f77b4;stroke:#1f77b4;\" x=\"160.130625\" xlink:href=\"#m89c2b535ce\" y=\"212.960888\"/>\r\n     <use style=\"fill:#1f77b4;stroke:#1f77b4;\" x=\"163.174261\" xlink:href=\"#m89c2b535ce\" y=\"213.000205\"/>\r\n     <use style=\"fill:#1f77b4;stroke:#1f77b4;\" x=\"166.217898\" xlink:href=\"#m89c2b535ce\" y=\"213.046075\"/>\r\n     <use style=\"fill:#1f77b4;stroke:#1f77b4;\" x=\"169.261534\" xlink:href=\"#m89c2b535ce\" y=\"213.085392\"/>\r\n     <use style=\"fill:#1f77b4;stroke:#1f77b4;\" x=\"172.30517\" xlink:href=\"#m89c2b535ce\" y=\"213.091944\"/>\r\n     <use style=\"fill:#1f77b4;stroke:#1f77b4;\" x=\"175.348807\" xlink:href=\"#m89c2b535ce\" y=\"213.118156\"/>\r\n     <use style=\"fill:#1f77b4;stroke:#1f77b4;\" x=\"178.392443\" xlink:href=\"#m89c2b535ce\" y=\"213.137814\"/>\r\n     <use style=\"fill:#1f77b4;stroke:#1f77b4;\" x=\"181.43608\" xlink:href=\"#m89c2b535ce\" y=\"213.177131\"/>\r\n     <use style=\"fill:#1f77b4;stroke:#1f77b4;\" x=\"184.479716\" xlink:href=\"#m89c2b535ce\" y=\"213.190237\"/>\r\n     <use style=\"fill:#1f77b4;stroke:#1f77b4;\" x=\"187.523352\" xlink:href=\"#m89c2b535ce\" y=\"213.236107\"/>\r\n     <use style=\"fill:#1f77b4;stroke:#1f77b4;\" x=\"190.566989\" xlink:href=\"#m89c2b535ce\" y=\"213.262318\"/>\r\n     <use style=\"fill:#1f77b4;stroke:#1f77b4;\" x=\"193.610625\" xlink:href=\"#m89c2b535ce\" y=\"213.301635\"/>\r\n     <use style=\"fill:#1f77b4;stroke:#1f77b4;\" x=\"196.654261\" xlink:href=\"#m89c2b535ce\" y=\"213.327846\"/>\r\n     <use style=\"fill:#1f77b4;stroke:#1f77b4;\" x=\"199.697898\" xlink:href=\"#m89c2b535ce\" y=\"213.373716\"/>\r\n     <use style=\"fill:#1f77b4;stroke:#1f77b4;\" x=\"202.741534\" xlink:href=\"#m89c2b535ce\" y=\"213.393375\"/>\r\n     <use style=\"fill:#1f77b4;stroke:#1f77b4;\" x=\"205.78517\" xlink:href=\"#m89c2b535ce\" y=\"213.40648\"/>\r\n     <use style=\"fill:#1f77b4;stroke:#1f77b4;\" x=\"208.828807\" xlink:href=\"#m89c2b535ce\" y=\"213.432692\"/>\r\n     <use style=\"fill:#1f77b4;stroke:#1f77b4;\" x=\"211.872443\" xlink:href=\"#m89c2b535ce\" y=\"213.45235\"/>\r\n     <use style=\"fill:#1f77b4;stroke:#1f77b4;\" x=\"214.91608\" xlink:href=\"#m89c2b535ce\" y=\"213.458903\"/>\r\n     <use style=\"fill:#1f77b4;stroke:#1f77b4;\" x=\"217.959716\" xlink:href=\"#m89c2b535ce\" y=\"213.472009\"/>\r\n     <use style=\"fill:#1f77b4;stroke:#1f77b4;\" x=\"221.003352\" xlink:href=\"#m89c2b535ce\" y=\"213.491667\"/>\r\n     <use style=\"fill:#1f77b4;stroke:#1f77b4;\" x=\"224.046989\" xlink:href=\"#m89c2b535ce\" y=\"213.504773\"/>\r\n     <use style=\"fill:#1f77b4;stroke:#1f77b4;\" x=\"227.090625\" xlink:href=\"#m89c2b535ce\" y=\"213.530984\"/>\r\n     <use style=\"fill:#1f77b4;stroke:#1f77b4;\" x=\"230.134261\" xlink:href=\"#m89c2b535ce\" y=\"213.563748\"/>\r\n     <use style=\"fill:#1f77b4;stroke:#1f77b4;\" x=\"233.177898\" xlink:href=\"#m89c2b535ce\" y=\"213.570301\"/>\r\n     <use style=\"fill:#1f77b4;stroke:#1f77b4;\" x=\"236.221534\" xlink:href=\"#m89c2b535ce\" y=\"213.58996\"/>\r\n     <use style=\"fill:#1f77b4;stroke:#1f77b4;\" x=\"239.26517\" xlink:href=\"#m89c2b535ce\" y=\"213.609618\"/>\r\n     <use style=\"fill:#1f77b4;stroke:#1f77b4;\" x=\"242.308807\" xlink:href=\"#m89c2b535ce\" y=\"213.616171\"/>\r\n     <use style=\"fill:#1f77b4;stroke:#1f77b4;\" x=\"245.352443\" xlink:href=\"#m89c2b535ce\" y=\"213.622724\"/>\r\n     <use style=\"fill:#1f77b4;stroke:#1f77b4;\" x=\"248.39608\" xlink:href=\"#m89c2b535ce\" y=\"213.655488\"/>\r\n     <use style=\"fill:#1f77b4;stroke:#1f77b4;\" x=\"251.439716\" xlink:href=\"#m89c2b535ce\" y=\"213.675146\"/>\r\n     <use style=\"fill:#1f77b4;stroke:#1f77b4;\" x=\"254.483352\" xlink:href=\"#m89c2b535ce\" y=\"213.707911\"/>\r\n     <use style=\"fill:#1f77b4;stroke:#1f77b4;\" x=\"257.526989\" xlink:href=\"#m89c2b535ce\" y=\"213.714463\"/>\r\n     <use style=\"fill:#1f77b4;stroke:#1f77b4;\" x=\"260.570625\" xlink:href=\"#m89c2b535ce\" y=\"213.734122\"/>\r\n     <use style=\"fill:#1f77b4;stroke:#1f77b4;\" x=\"263.614261\" xlink:href=\"#m89c2b535ce\" y=\"213.740675\"/>\r\n     <use style=\"fill:#1f77b4;stroke:#1f77b4;\" x=\"266.657898\" xlink:href=\"#m89c2b535ce\" y=\"213.747228\"/>\r\n     <use style=\"fill:#1f77b4;stroke:#1f77b4;\" x=\"269.701534\" xlink:href=\"#m89c2b535ce\" y=\"213.766886\"/>\r\n     <use style=\"fill:#1f77b4;stroke:#1f77b4;\" x=\"272.74517\" xlink:href=\"#m89c2b535ce\" y=\"213.793097\"/>\r\n     <use style=\"fill:#1f77b4;stroke:#1f77b4;\" x=\"275.788807\" xlink:href=\"#m89c2b535ce\" y=\"213.806203\"/>\r\n     <use style=\"fill:#1f77b4;stroke:#1f77b4;\" x=\"278.832443\" xlink:href=\"#m89c2b535ce\" y=\"213.819309\"/>\r\n     <use style=\"fill:#1f77b4;stroke:#1f77b4;\" x=\"281.87608\" xlink:href=\"#m89c2b535ce\" y=\"213.838967\"/>\r\n     <use style=\"fill:#1f77b4;stroke:#1f77b4;\" x=\"284.919716\" xlink:href=\"#m89c2b535ce\" y=\"213.871731\"/>\r\n     <use style=\"fill:#1f77b4;stroke:#1f77b4;\" x=\"287.963352\" xlink:href=\"#m89c2b535ce\" y=\"213.897943\"/>\r\n     <use style=\"fill:#1f77b4;stroke:#1f77b4;\" x=\"291.006989\" xlink:href=\"#m89c2b535ce\" y=\"213.924154\"/>\r\n     <use style=\"fill:#1f77b4;stroke:#1f77b4;\" x=\"294.050625\" xlink:href=\"#m89c2b535ce\" y=\"213.950365\"/>\r\n     <use style=\"fill:#1f77b4;stroke:#1f77b4;\" x=\"297.094261\" xlink:href=\"#m89c2b535ce\" y=\"213.970024\"/>\r\n     <use style=\"fill:#1f77b4;stroke:#1f77b4;\" x=\"300.137898\" xlink:href=\"#m89c2b535ce\" y=\"213.976577\"/>\r\n     <use style=\"fill:#1f77b4;stroke:#1f77b4;\" x=\"303.181534\" xlink:href=\"#m89c2b535ce\" y=\"213.989682\"/>\r\n     <use style=\"fill:#1f77b4;stroke:#1f77b4;\" x=\"306.22517\" xlink:href=\"#m89c2b535ce\" y=\"213.996235\"/>\r\n     <use style=\"fill:#1f77b4;stroke:#1f77b4;\" x=\"309.268807\" xlink:href=\"#m89c2b535ce\" y=\"214.042105\"/>\r\n     <use style=\"fill:#1f77b4;stroke:#1f77b4;\" x=\"312.312443\" xlink:href=\"#m89c2b535ce\" y=\"214.061763\"/>\r\n     <use style=\"fill:#1f77b4;stroke:#1f77b4;\" x=\"315.35608\" xlink:href=\"#m89c2b535ce\" y=\"214.081422\"/>\r\n     <use style=\"fill:#1f77b4;stroke:#1f77b4;\" x=\"318.399716\" xlink:href=\"#m89c2b535ce\" y=\"214.133845\"/>\r\n     <use style=\"fill:#1f77b4;stroke:#1f77b4;\" x=\"321.443352\" xlink:href=\"#m89c2b535ce\" y=\"214.166609\"/>\r\n     <use style=\"fill:#1f77b4;stroke:#1f77b4;\" x=\"324.486989\" xlink:href=\"#m89c2b535ce\" y=\"214.19282\"/>\r\n     <use style=\"fill:#1f77b4;stroke:#1f77b4;\" x=\"327.530625\" xlink:href=\"#m89c2b535ce\" y=\"214.219031\"/>\r\n     <use style=\"fill:#1f77b4;stroke:#1f77b4;\" x=\"330.574261\" xlink:href=\"#m89c2b535ce\" y=\"214.245243\"/>\r\n     <use style=\"fill:#1f77b4;stroke:#1f77b4;\" x=\"333.617898\" xlink:href=\"#m89c2b535ce\" y=\"214.271454\"/>\r\n     <use style=\"fill:#1f77b4;stroke:#1f77b4;\" x=\"336.661534\" xlink:href=\"#m89c2b535ce\" y=\"214.310771\"/>\r\n     <use style=\"fill:#1f77b4;stroke:#1f77b4;\" x=\"339.70517\" xlink:href=\"#m89c2b535ce\" y=\"214.363194\"/>\r\n     <use style=\"fill:#1f77b4;stroke:#1f77b4;\" x=\"342.748807\" xlink:href=\"#m89c2b535ce\" y=\"214.382852\"/>\r\n     <use style=\"fill:#1f77b4;stroke:#1f77b4;\" x=\"345.792443\" xlink:href=\"#m89c2b535ce\" y=\"214.389405\"/>\r\n     <use style=\"fill:#1f77b4;stroke:#1f77b4;\" x=\"348.83608\" xlink:href=\"#m89c2b535ce\" y=\"214.435275\"/>\r\n     <use style=\"fill:#1f77b4;stroke:#1f77b4;\" x=\"351.879716\" xlink:href=\"#m89c2b535ce\" y=\"214.454933\"/>\r\n     <use style=\"fill:#1f77b4;stroke:#1f77b4;\" x=\"354.923352\" xlink:href=\"#m89c2b535ce\" y=\"214.49425\"/>\r\n     <use style=\"fill:#1f77b4;stroke:#1f77b4;\" x=\"357.966989\" xlink:href=\"#m89c2b535ce\" y=\"214.507356\"/>\r\n     <use style=\"fill:#1f77b4;stroke:#1f77b4;\" x=\"361.010625\" xlink:href=\"#m89c2b535ce\" y=\"214.54012\"/>\r\n     <use style=\"fill:#1f77b4;stroke:#1f77b4;\" x=\"364.054261\" xlink:href=\"#m89c2b535ce\" y=\"214.579437\"/>\r\n     <use style=\"fill:#1f77b4;stroke:#1f77b4;\" x=\"367.097898\" xlink:href=\"#m89c2b535ce\" y=\"214.612201\"/>\r\n     <use style=\"fill:#1f77b4;stroke:#1f77b4;\" x=\"370.141534\" xlink:href=\"#m89c2b535ce\" y=\"214.644965\"/>\r\n     <use style=\"fill:#1f77b4;stroke:#1f77b4;\" x=\"373.18517\" xlink:href=\"#m89c2b535ce\" y=\"214.664624\"/>\r\n     <use style=\"fill:#1f77b4;stroke:#1f77b4;\" x=\"376.228807\" xlink:href=\"#m89c2b535ce\" y=\"214.730152\"/>\r\n     <use style=\"fill:#1f77b4;stroke:#1f77b4;\" x=\"379.272443\" xlink:href=\"#m89c2b535ce\" y=\"214.756364\"/>\r\n    </g>\r\n   </g>\r\n   <g id=\"matplotlib.axis_1\">\r\n    <g id=\"xtick_1\">\r\n     <g id=\"line2d_1\">\r\n      <defs>\r\n       <path d=\"M 0 0 \r\nL 0 3.5 \r\n\" id=\"mf385cf57cd\" style=\"stroke:#000000;stroke-width:0.8;\"/>\r\n      </defs>\r\n      <g>\r\n       <use style=\"stroke:#000000;stroke-width:0.8;\" x=\"74.908807\" xlink:href=\"#mf385cf57cd\" y=\"224.64\"/>\r\n      </g>\r\n     </g>\r\n     <g id=\"text_1\">\r\n      <!-- 0 -->\r\n      <g transform=\"translate(71.727557 239.238437)scale(0.1 -0.1)\">\r\n       <defs>\r\n        <path d=\"M 31.78125 66.40625 \r\nQ 24.171875 66.40625 20.328125 58.90625 \r\nQ 16.5 51.421875 16.5 36.375 \r\nQ 16.5 21.390625 20.328125 13.890625 \r\nQ 24.171875 6.390625 31.78125 6.390625 \r\nQ 39.453125 6.390625 43.28125 13.890625 \r\nQ 47.125 21.390625 47.125 36.375 \r\nQ 47.125 51.421875 43.28125 58.90625 \r\nQ 39.453125 66.40625 31.78125 66.40625 \r\nz\r\nM 31.78125 74.21875 \r\nQ 44.046875 74.21875 50.515625 64.515625 \r\nQ 56.984375 54.828125 56.984375 36.375 \r\nQ 56.984375 17.96875 50.515625 8.265625 \r\nQ 44.046875 -1.421875 31.78125 -1.421875 \r\nQ 19.53125 -1.421875 13.0625 8.265625 \r\nQ 6.59375 17.96875 6.59375 36.375 \r\nQ 6.59375 54.828125 13.0625 64.515625 \r\nQ 19.53125 74.21875 31.78125 74.21875 \r\nz\r\n\" id=\"DejaVuSans-48\"/>\r\n       </defs>\r\n       <use xlink:href=\"#DejaVuSans-48\"/>\r\n      </g>\r\n     </g>\r\n    </g>\r\n    <g id=\"xtick_2\">\r\n     <g id=\"line2d_2\">\r\n      <g>\r\n       <use style=\"stroke:#000000;stroke-width:0.8;\" x=\"135.781534\" xlink:href=\"#mf385cf57cd\" y=\"224.64\"/>\r\n      </g>\r\n     </g>\r\n     <g id=\"text_2\">\r\n      <!-- 20 -->\r\n      <g transform=\"translate(129.419034 239.238437)scale(0.1 -0.1)\">\r\n       <defs>\r\n        <path d=\"M 19.1875 8.296875 \r\nL 53.609375 8.296875 \r\nL 53.609375 0 \r\nL 7.328125 0 \r\nL 7.328125 8.296875 \r\nQ 12.9375 14.109375 22.625 23.890625 \r\nQ 32.328125 33.6875 34.8125 36.53125 \r\nQ 39.546875 41.84375 41.421875 45.53125 \r\nQ 43.3125 49.21875 43.3125 52.78125 \r\nQ 43.3125 58.59375 39.234375 62.25 \r\nQ 35.15625 65.921875 28.609375 65.921875 \r\nQ 23.96875 65.921875 18.8125 64.3125 \r\nQ 13.671875 62.703125 7.8125 59.421875 \r\nL 7.8125 69.390625 \r\nQ 13.765625 71.78125 18.9375 73 \r\nQ 24.125 74.21875 28.421875 74.21875 \r\nQ 39.75 74.21875 46.484375 68.546875 \r\nQ 53.21875 62.890625 53.21875 53.421875 \r\nQ 53.21875 48.921875 51.53125 44.890625 \r\nQ 49.859375 40.875 45.40625 35.40625 \r\nQ 44.1875 33.984375 37.640625 27.21875 \r\nQ 31.109375 20.453125 19.1875 8.296875 \r\nz\r\n\" id=\"DejaVuSans-50\"/>\r\n       </defs>\r\n       <use xlink:href=\"#DejaVuSans-50\"/>\r\n       <use x=\"63.623047\" xlink:href=\"#DejaVuSans-48\"/>\r\n      </g>\r\n     </g>\r\n    </g>\r\n    <g id=\"xtick_3\">\r\n     <g id=\"line2d_3\">\r\n      <g>\r\n       <use style=\"stroke:#000000;stroke-width:0.8;\" x=\"196.654261\" xlink:href=\"#mf385cf57cd\" y=\"224.64\"/>\r\n      </g>\r\n     </g>\r\n     <g id=\"text_3\">\r\n      <!-- 40 -->\r\n      <g transform=\"translate(190.291761 239.238437)scale(0.1 -0.1)\">\r\n       <defs>\r\n        <path d=\"M 37.796875 64.3125 \r\nL 12.890625 25.390625 \r\nL 37.796875 25.390625 \r\nz\r\nM 35.203125 72.90625 \r\nL 47.609375 72.90625 \r\nL 47.609375 25.390625 \r\nL 58.015625 25.390625 \r\nL 58.015625 17.1875 \r\nL 47.609375 17.1875 \r\nL 47.609375 0 \r\nL 37.796875 0 \r\nL 37.796875 17.1875 \r\nL 4.890625 17.1875 \r\nL 4.890625 26.703125 \r\nz\r\n\" id=\"DejaVuSans-52\"/>\r\n       </defs>\r\n       <use xlink:href=\"#DejaVuSans-52\"/>\r\n       <use x=\"63.623047\" xlink:href=\"#DejaVuSans-48\"/>\r\n      </g>\r\n     </g>\r\n    </g>\r\n    <g id=\"xtick_4\">\r\n     <g id=\"line2d_4\">\r\n      <g>\r\n       <use style=\"stroke:#000000;stroke-width:0.8;\" x=\"257.526989\" xlink:href=\"#mf385cf57cd\" y=\"224.64\"/>\r\n      </g>\r\n     </g>\r\n     <g id=\"text_4\">\r\n      <!-- 60 -->\r\n      <g transform=\"translate(251.164489 239.238437)scale(0.1 -0.1)\">\r\n       <defs>\r\n        <path d=\"M 33.015625 40.375 \r\nQ 26.375 40.375 22.484375 35.828125 \r\nQ 18.609375 31.296875 18.609375 23.390625 \r\nQ 18.609375 15.53125 22.484375 10.953125 \r\nQ 26.375 6.390625 33.015625 6.390625 \r\nQ 39.65625 6.390625 43.53125 10.953125 \r\nQ 47.40625 15.53125 47.40625 23.390625 \r\nQ 47.40625 31.296875 43.53125 35.828125 \r\nQ 39.65625 40.375 33.015625 40.375 \r\nz\r\nM 52.59375 71.296875 \r\nL 52.59375 62.3125 \r\nQ 48.875 64.0625 45.09375 64.984375 \r\nQ 41.3125 65.921875 37.59375 65.921875 \r\nQ 27.828125 65.921875 22.671875 59.328125 \r\nQ 17.53125 52.734375 16.796875 39.40625 \r\nQ 19.671875 43.65625 24.015625 45.921875 \r\nQ 28.375 48.1875 33.59375 48.1875 \r\nQ 44.578125 48.1875 50.953125 41.515625 \r\nQ 57.328125 34.859375 57.328125 23.390625 \r\nQ 57.328125 12.15625 50.6875 5.359375 \r\nQ 44.046875 -1.421875 33.015625 -1.421875 \r\nQ 20.359375 -1.421875 13.671875 8.265625 \r\nQ 6.984375 17.96875 6.984375 36.375 \r\nQ 6.984375 53.65625 15.1875 63.9375 \r\nQ 23.390625 74.21875 37.203125 74.21875 \r\nQ 40.921875 74.21875 44.703125 73.484375 \r\nQ 48.484375 72.75 52.59375 71.296875 \r\nz\r\n\" id=\"DejaVuSans-54\"/>\r\n       </defs>\r\n       <use xlink:href=\"#DejaVuSans-54\"/>\r\n       <use x=\"63.623047\" xlink:href=\"#DejaVuSans-48\"/>\r\n      </g>\r\n     </g>\r\n    </g>\r\n    <g id=\"xtick_5\">\r\n     <g id=\"line2d_5\">\r\n      <g>\r\n       <use style=\"stroke:#000000;stroke-width:0.8;\" x=\"318.399716\" xlink:href=\"#mf385cf57cd\" y=\"224.64\"/>\r\n      </g>\r\n     </g>\r\n     <g id=\"text_5\">\r\n      <!-- 80 -->\r\n      <g transform=\"translate(312.037216 239.238437)scale(0.1 -0.1)\">\r\n       <defs>\r\n        <path d=\"M 31.78125 34.625 \r\nQ 24.75 34.625 20.71875 30.859375 \r\nQ 16.703125 27.09375 16.703125 20.515625 \r\nQ 16.703125 13.921875 20.71875 10.15625 \r\nQ 24.75 6.390625 31.78125 6.390625 \r\nQ 38.8125 6.390625 42.859375 10.171875 \r\nQ 46.921875 13.96875 46.921875 20.515625 \r\nQ 46.921875 27.09375 42.890625 30.859375 \r\nQ 38.875 34.625 31.78125 34.625 \r\nz\r\nM 21.921875 38.8125 \r\nQ 15.578125 40.375 12.03125 44.71875 \r\nQ 8.5 49.078125 8.5 55.328125 \r\nQ 8.5 64.0625 14.71875 69.140625 \r\nQ 20.953125 74.21875 31.78125 74.21875 \r\nQ 42.671875 74.21875 48.875 69.140625 \r\nQ 55.078125 64.0625 55.078125 55.328125 \r\nQ 55.078125 49.078125 51.53125 44.71875 \r\nQ 48 40.375 41.703125 38.8125 \r\nQ 48.828125 37.15625 52.796875 32.3125 \r\nQ 56.78125 27.484375 56.78125 20.515625 \r\nQ 56.78125 9.90625 50.3125 4.234375 \r\nQ 43.84375 -1.421875 31.78125 -1.421875 \r\nQ 19.734375 -1.421875 13.25 4.234375 \r\nQ 6.78125 9.90625 6.78125 20.515625 \r\nQ 6.78125 27.484375 10.78125 32.3125 \r\nQ 14.796875 37.15625 21.921875 38.8125 \r\nz\r\nM 18.3125 54.390625 \r\nQ 18.3125 48.734375 21.84375 45.5625 \r\nQ 25.390625 42.390625 31.78125 42.390625 \r\nQ 38.140625 42.390625 41.71875 45.5625 \r\nQ 45.3125 48.734375 45.3125 54.390625 \r\nQ 45.3125 60.0625 41.71875 63.234375 \r\nQ 38.140625 66.40625 31.78125 66.40625 \r\nQ 25.390625 66.40625 21.84375 63.234375 \r\nQ 18.3125 60.0625 18.3125 54.390625 \r\nz\r\n\" id=\"DejaVuSans-56\"/>\r\n       </defs>\r\n       <use xlink:href=\"#DejaVuSans-56\"/>\r\n       <use x=\"63.623047\" xlink:href=\"#DejaVuSans-48\"/>\r\n      </g>\r\n     </g>\r\n    </g>\r\n    <g id=\"xtick_6\">\r\n     <g id=\"line2d_6\">\r\n      <g>\r\n       <use style=\"stroke:#000000;stroke-width:0.8;\" x=\"379.272443\" xlink:href=\"#mf385cf57cd\" y=\"224.64\"/>\r\n      </g>\r\n     </g>\r\n     <g id=\"text_6\">\r\n      <!-- 100 -->\r\n      <g transform=\"translate(369.728693 239.238437)scale(0.1 -0.1)\">\r\n       <defs>\r\n        <path d=\"M 12.40625 8.296875 \r\nL 28.515625 8.296875 \r\nL 28.515625 63.921875 \r\nL 10.984375 60.40625 \r\nL 10.984375 69.390625 \r\nL 28.421875 72.90625 \r\nL 38.28125 72.90625 \r\nL 38.28125 8.296875 \r\nL 54.390625 8.296875 \r\nL 54.390625 0 \r\nL 12.40625 0 \r\nz\r\n\" id=\"DejaVuSans-49\"/>\r\n       </defs>\r\n       <use xlink:href=\"#DejaVuSans-49\"/>\r\n       <use x=\"63.623047\" xlink:href=\"#DejaVuSans-48\"/>\r\n       <use x=\"127.246094\" xlink:href=\"#DejaVuSans-48\"/>\r\n      </g>\r\n     </g>\r\n    </g>\r\n    <g id=\"text_7\">\r\n     <!-- threshold number of sequenes -->\r\n     <g transform=\"translate(150.494531 252.916562)scale(0.1 -0.1)\">\r\n      <defs>\r\n       <path d=\"M 18.3125 70.21875 \r\nL 18.3125 54.6875 \r\nL 36.8125 54.6875 \r\nL 36.8125 47.703125 \r\nL 18.3125 47.703125 \r\nL 18.3125 18.015625 \r\nQ 18.3125 11.328125 20.140625 9.421875 \r\nQ 21.96875 7.515625 27.59375 7.515625 \r\nL 36.8125 7.515625 \r\nL 36.8125 0 \r\nL 27.59375 0 \r\nQ 17.1875 0 13.234375 3.875 \r\nQ 9.28125 7.765625 9.28125 18.015625 \r\nL 9.28125 47.703125 \r\nL 2.6875 47.703125 \r\nL 2.6875 54.6875 \r\nL 9.28125 54.6875 \r\nL 9.28125 70.21875 \r\nz\r\n\" id=\"DejaVuSans-116\"/>\r\n       <path d=\"M 54.890625 33.015625 \r\nL 54.890625 0 \r\nL 45.90625 0 \r\nL 45.90625 32.71875 \r\nQ 45.90625 40.484375 42.875 44.328125 \r\nQ 39.84375 48.1875 33.796875 48.1875 \r\nQ 26.515625 48.1875 22.3125 43.546875 \r\nQ 18.109375 38.921875 18.109375 30.90625 \r\nL 18.109375 0 \r\nL 9.078125 0 \r\nL 9.078125 75.984375 \r\nL 18.109375 75.984375 \r\nL 18.109375 46.1875 \r\nQ 21.34375 51.125 25.703125 53.5625 \r\nQ 30.078125 56 35.796875 56 \r\nQ 45.21875 56 50.046875 50.171875 \r\nQ 54.890625 44.34375 54.890625 33.015625 \r\nz\r\n\" id=\"DejaVuSans-104\"/>\r\n       <path d=\"M 41.109375 46.296875 \r\nQ 39.59375 47.171875 37.8125 47.578125 \r\nQ 36.03125 48 33.890625 48 \r\nQ 26.265625 48 22.1875 43.046875 \r\nQ 18.109375 38.09375 18.109375 28.8125 \r\nL 18.109375 0 \r\nL 9.078125 0 \r\nL 9.078125 54.6875 \r\nL 18.109375 54.6875 \r\nL 18.109375 46.1875 \r\nQ 20.953125 51.171875 25.484375 53.578125 \r\nQ 30.03125 56 36.53125 56 \r\nQ 37.453125 56 38.578125 55.875 \r\nQ 39.703125 55.765625 41.0625 55.515625 \r\nz\r\n\" id=\"DejaVuSans-114\"/>\r\n       <path d=\"M 56.203125 29.59375 \r\nL 56.203125 25.203125 \r\nL 14.890625 25.203125 \r\nQ 15.484375 15.921875 20.484375 11.0625 \r\nQ 25.484375 6.203125 34.421875 6.203125 \r\nQ 39.59375 6.203125 44.453125 7.46875 \r\nQ 49.3125 8.734375 54.109375 11.28125 \r\nL 54.109375 2.78125 \r\nQ 49.265625 0.734375 44.1875 -0.34375 \r\nQ 39.109375 -1.421875 33.890625 -1.421875 \r\nQ 20.796875 -1.421875 13.15625 6.1875 \r\nQ 5.515625 13.8125 5.515625 26.8125 \r\nQ 5.515625 40.234375 12.765625 48.109375 \r\nQ 20.015625 56 32.328125 56 \r\nQ 43.359375 56 49.78125 48.890625 \r\nQ 56.203125 41.796875 56.203125 29.59375 \r\nz\r\nM 47.21875 32.234375 \r\nQ 47.125 39.59375 43.09375 43.984375 \r\nQ 39.0625 48.390625 32.421875 48.390625 \r\nQ 24.90625 48.390625 20.390625 44.140625 \r\nQ 15.875 39.890625 15.1875 32.171875 \r\nz\r\n\" id=\"DejaVuSans-101\"/>\r\n       <path d=\"M 44.28125 53.078125 \r\nL 44.28125 44.578125 \r\nQ 40.484375 46.53125 36.375 47.5 \r\nQ 32.28125 48.484375 27.875 48.484375 \r\nQ 21.1875 48.484375 17.84375 46.4375 \r\nQ 14.5 44.390625 14.5 40.28125 \r\nQ 14.5 37.15625 16.890625 35.375 \r\nQ 19.28125 33.59375 26.515625 31.984375 \r\nL 29.59375 31.296875 \r\nQ 39.15625 29.25 43.1875 25.515625 \r\nQ 47.21875 21.78125 47.21875 15.09375 \r\nQ 47.21875 7.46875 41.1875 3.015625 \r\nQ 35.15625 -1.421875 24.609375 -1.421875 \r\nQ 20.21875 -1.421875 15.453125 -0.5625 \r\nQ 10.6875 0.296875 5.421875 2 \r\nL 5.421875 11.28125 \r\nQ 10.40625 8.6875 15.234375 7.390625 \r\nQ 20.0625 6.109375 24.8125 6.109375 \r\nQ 31.15625 6.109375 34.5625 8.28125 \r\nQ 37.984375 10.453125 37.984375 14.40625 \r\nQ 37.984375 18.0625 35.515625 20.015625 \r\nQ 33.0625 21.96875 24.703125 23.78125 \r\nL 21.578125 24.515625 \r\nQ 13.234375 26.265625 9.515625 29.90625 \r\nQ 5.8125 33.546875 5.8125 39.890625 \r\nQ 5.8125 47.609375 11.28125 51.796875 \r\nQ 16.75 56 26.8125 56 \r\nQ 31.78125 56 36.171875 55.265625 \r\nQ 40.578125 54.546875 44.28125 53.078125 \r\nz\r\n\" id=\"DejaVuSans-115\"/>\r\n       <path d=\"M 30.609375 48.390625 \r\nQ 23.390625 48.390625 19.1875 42.75 \r\nQ 14.984375 37.109375 14.984375 27.296875 \r\nQ 14.984375 17.484375 19.15625 11.84375 \r\nQ 23.34375 6.203125 30.609375 6.203125 \r\nQ 37.796875 6.203125 41.984375 11.859375 \r\nQ 46.1875 17.53125 46.1875 27.296875 \r\nQ 46.1875 37.015625 41.984375 42.703125 \r\nQ 37.796875 48.390625 30.609375 48.390625 \r\nz\r\nM 30.609375 56 \r\nQ 42.328125 56 49.015625 48.375 \r\nQ 55.71875 40.765625 55.71875 27.296875 \r\nQ 55.71875 13.875 49.015625 6.21875 \r\nQ 42.328125 -1.421875 30.609375 -1.421875 \r\nQ 18.84375 -1.421875 12.171875 6.21875 \r\nQ 5.515625 13.875 5.515625 27.296875 \r\nQ 5.515625 40.765625 12.171875 48.375 \r\nQ 18.84375 56 30.609375 56 \r\nz\r\n\" id=\"DejaVuSans-111\"/>\r\n       <path d=\"M 9.421875 75.984375 \r\nL 18.40625 75.984375 \r\nL 18.40625 0 \r\nL 9.421875 0 \r\nz\r\n\" id=\"DejaVuSans-108\"/>\r\n       <path d=\"M 45.40625 46.390625 \r\nL 45.40625 75.984375 \r\nL 54.390625 75.984375 \r\nL 54.390625 0 \r\nL 45.40625 0 \r\nL 45.40625 8.203125 \r\nQ 42.578125 3.328125 38.25 0.953125 \r\nQ 33.9375 -1.421875 27.875 -1.421875 \r\nQ 17.96875 -1.421875 11.734375 6.484375 \r\nQ 5.515625 14.40625 5.515625 27.296875 \r\nQ 5.515625 40.1875 11.734375 48.09375 \r\nQ 17.96875 56 27.875 56 \r\nQ 33.9375 56 38.25 53.625 \r\nQ 42.578125 51.265625 45.40625 46.390625 \r\nz\r\nM 14.796875 27.296875 \r\nQ 14.796875 17.390625 18.875 11.75 \r\nQ 22.953125 6.109375 30.078125 6.109375 \r\nQ 37.203125 6.109375 41.296875 11.75 \r\nQ 45.40625 17.390625 45.40625 27.296875 \r\nQ 45.40625 37.203125 41.296875 42.84375 \r\nQ 37.203125 48.484375 30.078125 48.484375 \r\nQ 22.953125 48.484375 18.875 42.84375 \r\nQ 14.796875 37.203125 14.796875 27.296875 \r\nz\r\n\" id=\"DejaVuSans-100\"/>\r\n       <path id=\"DejaVuSans-32\"/>\r\n       <path d=\"M 54.890625 33.015625 \r\nL 54.890625 0 \r\nL 45.90625 0 \r\nL 45.90625 32.71875 \r\nQ 45.90625 40.484375 42.875 44.328125 \r\nQ 39.84375 48.1875 33.796875 48.1875 \r\nQ 26.515625 48.1875 22.3125 43.546875 \r\nQ 18.109375 38.921875 18.109375 30.90625 \r\nL 18.109375 0 \r\nL 9.078125 0 \r\nL 9.078125 54.6875 \r\nL 18.109375 54.6875 \r\nL 18.109375 46.1875 \r\nQ 21.34375 51.125 25.703125 53.5625 \r\nQ 30.078125 56 35.796875 56 \r\nQ 45.21875 56 50.046875 50.171875 \r\nQ 54.890625 44.34375 54.890625 33.015625 \r\nz\r\n\" id=\"DejaVuSans-110\"/>\r\n       <path d=\"M 8.5 21.578125 \r\nL 8.5 54.6875 \r\nL 17.484375 54.6875 \r\nL 17.484375 21.921875 \r\nQ 17.484375 14.15625 20.5 10.265625 \r\nQ 23.53125 6.390625 29.59375 6.390625 \r\nQ 36.859375 6.390625 41.078125 11.03125 \r\nQ 45.3125 15.671875 45.3125 23.6875 \r\nL 45.3125 54.6875 \r\nL 54.296875 54.6875 \r\nL 54.296875 0 \r\nL 45.3125 0 \r\nL 45.3125 8.40625 \r\nQ 42.046875 3.421875 37.71875 1 \r\nQ 33.40625 -1.421875 27.6875 -1.421875 \r\nQ 18.265625 -1.421875 13.375 4.4375 \r\nQ 8.5 10.296875 8.5 21.578125 \r\nz\r\nM 31.109375 56 \r\nz\r\n\" id=\"DejaVuSans-117\"/>\r\n       <path d=\"M 52 44.1875 \r\nQ 55.375 50.25 60.0625 53.125 \r\nQ 64.75 56 71.09375 56 \r\nQ 79.640625 56 84.28125 50.015625 \r\nQ 88.921875 44.046875 88.921875 33.015625 \r\nL 88.921875 0 \r\nL 79.890625 0 \r\nL 79.890625 32.71875 \r\nQ 79.890625 40.578125 77.09375 44.375 \r\nQ 74.3125 48.1875 68.609375 48.1875 \r\nQ 61.625 48.1875 57.5625 43.546875 \r\nQ 53.515625 38.921875 53.515625 30.90625 \r\nL 53.515625 0 \r\nL 44.484375 0 \r\nL 44.484375 32.71875 \r\nQ 44.484375 40.625 41.703125 44.40625 \r\nQ 38.921875 48.1875 33.109375 48.1875 \r\nQ 26.21875 48.1875 22.15625 43.53125 \r\nQ 18.109375 38.875 18.109375 30.90625 \r\nL 18.109375 0 \r\nL 9.078125 0 \r\nL 9.078125 54.6875 \r\nL 18.109375 54.6875 \r\nL 18.109375 46.1875 \r\nQ 21.1875 51.21875 25.484375 53.609375 \r\nQ 29.78125 56 35.6875 56 \r\nQ 41.65625 56 45.828125 52.96875 \r\nQ 50 49.953125 52 44.1875 \r\nz\r\n\" id=\"DejaVuSans-109\"/>\r\n       <path d=\"M 48.6875 27.296875 \r\nQ 48.6875 37.203125 44.609375 42.84375 \r\nQ 40.53125 48.484375 33.40625 48.484375 \r\nQ 26.265625 48.484375 22.1875 42.84375 \r\nQ 18.109375 37.203125 18.109375 27.296875 \r\nQ 18.109375 17.390625 22.1875 11.75 \r\nQ 26.265625 6.109375 33.40625 6.109375 \r\nQ 40.53125 6.109375 44.609375 11.75 \r\nQ 48.6875 17.390625 48.6875 27.296875 \r\nz\r\nM 18.109375 46.390625 \r\nQ 20.953125 51.265625 25.265625 53.625 \r\nQ 29.59375 56 35.59375 56 \r\nQ 45.5625 56 51.78125 48.09375 \r\nQ 58.015625 40.1875 58.015625 27.296875 \r\nQ 58.015625 14.40625 51.78125 6.484375 \r\nQ 45.5625 -1.421875 35.59375 -1.421875 \r\nQ 29.59375 -1.421875 25.265625 0.953125 \r\nQ 20.953125 3.328125 18.109375 8.203125 \r\nL 18.109375 0 \r\nL 9.078125 0 \r\nL 9.078125 75.984375 \r\nL 18.109375 75.984375 \r\nz\r\n\" id=\"DejaVuSans-98\"/>\r\n       <path d=\"M 37.109375 75.984375 \r\nL 37.109375 68.5 \r\nL 28.515625 68.5 \r\nQ 23.6875 68.5 21.796875 66.546875 \r\nQ 19.921875 64.59375 19.921875 59.515625 \r\nL 19.921875 54.6875 \r\nL 34.71875 54.6875 \r\nL 34.71875 47.703125 \r\nL 19.921875 47.703125 \r\nL 19.921875 0 \r\nL 10.890625 0 \r\nL 10.890625 47.703125 \r\nL 2.296875 47.703125 \r\nL 2.296875 54.6875 \r\nL 10.890625 54.6875 \r\nL 10.890625 58.5 \r\nQ 10.890625 67.625 15.140625 71.796875 \r\nQ 19.390625 75.984375 28.609375 75.984375 \r\nz\r\n\" id=\"DejaVuSans-102\"/>\r\n       <path d=\"M 14.796875 27.296875 \r\nQ 14.796875 17.390625 18.875 11.75 \r\nQ 22.953125 6.109375 30.078125 6.109375 \r\nQ 37.203125 6.109375 41.296875 11.75 \r\nQ 45.40625 17.390625 45.40625 27.296875 \r\nQ 45.40625 37.203125 41.296875 42.84375 \r\nQ 37.203125 48.484375 30.078125 48.484375 \r\nQ 22.953125 48.484375 18.875 42.84375 \r\nQ 14.796875 37.203125 14.796875 27.296875 \r\nz\r\nM 45.40625 8.203125 \r\nQ 42.578125 3.328125 38.25 0.953125 \r\nQ 33.9375 -1.421875 27.875 -1.421875 \r\nQ 17.96875 -1.421875 11.734375 6.484375 \r\nQ 5.515625 14.40625 5.515625 27.296875 \r\nQ 5.515625 40.1875 11.734375 48.09375 \r\nQ 17.96875 56 27.875 56 \r\nQ 33.9375 56 38.25 53.625 \r\nQ 42.578125 51.265625 45.40625 46.390625 \r\nL 45.40625 54.6875 \r\nL 54.390625 54.6875 \r\nL 54.390625 -20.796875 \r\nL 45.40625 -20.796875 \r\nz\r\n\" id=\"DejaVuSans-113\"/>\r\n      </defs>\r\n      <use xlink:href=\"#DejaVuSans-116\"/>\r\n      <use x=\"39.208984\" xlink:href=\"#DejaVuSans-104\"/>\r\n      <use x=\"102.587891\" xlink:href=\"#DejaVuSans-114\"/>\r\n      <use x=\"141.451172\" xlink:href=\"#DejaVuSans-101\"/>\r\n      <use x=\"202.974609\" xlink:href=\"#DejaVuSans-115\"/>\r\n      <use x=\"255.074219\" xlink:href=\"#DejaVuSans-104\"/>\r\n      <use x=\"318.453125\" xlink:href=\"#DejaVuSans-111\"/>\r\n      <use x=\"379.634766\" xlink:href=\"#DejaVuSans-108\"/>\r\n      <use x=\"407.417969\" xlink:href=\"#DejaVuSans-100\"/>\r\n      <use x=\"470.894531\" xlink:href=\"#DejaVuSans-32\"/>\r\n      <use x=\"502.681641\" xlink:href=\"#DejaVuSans-110\"/>\r\n      <use x=\"566.060547\" xlink:href=\"#DejaVuSans-117\"/>\r\n      <use x=\"629.439453\" xlink:href=\"#DejaVuSans-109\"/>\r\n      <use x=\"726.851562\" xlink:href=\"#DejaVuSans-98\"/>\r\n      <use x=\"790.328125\" xlink:href=\"#DejaVuSans-101\"/>\r\n      <use x=\"851.851562\" xlink:href=\"#DejaVuSans-114\"/>\r\n      <use x=\"892.964844\" xlink:href=\"#DejaVuSans-32\"/>\r\n      <use x=\"924.751953\" xlink:href=\"#DejaVuSans-111\"/>\r\n      <use x=\"985.933594\" xlink:href=\"#DejaVuSans-102\"/>\r\n      <use x=\"1021.138672\" xlink:href=\"#DejaVuSans-32\"/>\r\n      <use x=\"1052.925781\" xlink:href=\"#DejaVuSans-115\"/>\r\n      <use x=\"1105.025391\" xlink:href=\"#DejaVuSans-101\"/>\r\n      <use x=\"1166.548828\" xlink:href=\"#DejaVuSans-113\"/>\r\n      <use x=\"1230.025391\" xlink:href=\"#DejaVuSans-117\"/>\r\n      <use x=\"1293.404297\" xlink:href=\"#DejaVuSans-101\"/>\r\n      <use x=\"1354.927734\" xlink:href=\"#DejaVuSans-110\"/>\r\n      <use x=\"1418.306641\" xlink:href=\"#DejaVuSans-101\"/>\r\n      <use x=\"1479.830078\" xlink:href=\"#DejaVuSans-115\"/>\r\n     </g>\r\n    </g>\r\n   </g>\r\n   <g id=\"matplotlib.axis_2\">\r\n    <g id=\"ytick_1\">\r\n     <g id=\"line2d_7\">\r\n      <defs>\r\n       <path d=\"M 0 0 \r\nL -3.5 0 \r\n\" id=\"m13a60872a9\" style=\"stroke:#000000;stroke-width:0.8;\"/>\r\n      </defs>\r\n      <g>\r\n       <use style=\"stroke:#000000;stroke-width:0.8;\" x=\"59.690625\" xlink:href=\"#m13a60872a9\" y=\"195.58933\"/>\r\n      </g>\r\n     </g>\r\n     <g id=\"text_8\">\r\n      <!-- 5000 -->\r\n      <g transform=\"translate(27.240625 199.388549)scale(0.1 -0.1)\">\r\n       <defs>\r\n        <path d=\"M 10.796875 72.90625 \r\nL 49.515625 72.90625 \r\nL 49.515625 64.59375 \r\nL 19.828125 64.59375 \r\nL 19.828125 46.734375 \r\nQ 21.96875 47.46875 24.109375 47.828125 \r\nQ 26.265625 48.1875 28.421875 48.1875 \r\nQ 40.625 48.1875 47.75 41.5 \r\nQ 54.890625 34.8125 54.890625 23.390625 \r\nQ 54.890625 11.625 47.5625 5.09375 \r\nQ 40.234375 -1.421875 26.90625 -1.421875 \r\nQ 22.3125 -1.421875 17.546875 -0.640625 \r\nQ 12.796875 0.140625 7.71875 1.703125 \r\nL 7.71875 11.625 \r\nQ 12.109375 9.234375 16.796875 8.0625 \r\nQ 21.484375 6.890625 26.703125 6.890625 \r\nQ 35.15625 6.890625 40.078125 11.328125 \r\nQ 45.015625 15.765625 45.015625 23.390625 \r\nQ 45.015625 31 40.078125 35.4375 \r\nQ 35.15625 39.890625 26.703125 39.890625 \r\nQ 22.75 39.890625 18.8125 39.015625 \r\nQ 14.890625 38.140625 10.796875 36.28125 \r\nz\r\n\" id=\"DejaVuSans-53\"/>\r\n       </defs>\r\n       <use xlink:href=\"#DejaVuSans-53\"/>\r\n       <use x=\"63.623047\" xlink:href=\"#DejaVuSans-48\"/>\r\n       <use x=\"127.246094\" xlink:href=\"#DejaVuSans-48\"/>\r\n       <use x=\"190.869141\" xlink:href=\"#DejaVuSans-48\"/>\r\n      </g>\r\n     </g>\r\n    </g>\r\n    <g id=\"ytick_2\">\r\n     <g id=\"line2d_8\">\r\n      <g>\r\n       <use style=\"stroke:#000000;stroke-width:0.8;\" x=\"59.690625\" xlink:href=\"#m13a60872a9\" y=\"162.825171\"/>\r\n      </g>\r\n     </g>\r\n     <g id=\"text_9\">\r\n      <!-- 10000 -->\r\n      <g transform=\"translate(20.878125 166.62439)scale(0.1 -0.1)\">\r\n       <use xlink:href=\"#DejaVuSans-49\"/>\r\n       <use x=\"63.623047\" xlink:href=\"#DejaVuSans-48\"/>\r\n       <use x=\"127.246094\" xlink:href=\"#DejaVuSans-48\"/>\r\n       <use x=\"190.869141\" xlink:href=\"#DejaVuSans-48\"/>\r\n       <use x=\"254.492188\" xlink:href=\"#DejaVuSans-48\"/>\r\n      </g>\r\n     </g>\r\n    </g>\r\n    <g id=\"ytick_3\">\r\n     <g id=\"line2d_9\">\r\n      <g>\r\n       <use style=\"stroke:#000000;stroke-width:0.8;\" x=\"59.690625\" xlink:href=\"#m13a60872a9\" y=\"130.061011\"/>\r\n      </g>\r\n     </g>\r\n     <g id=\"text_10\">\r\n      <!-- 15000 -->\r\n      <g transform=\"translate(20.878125 133.86023)scale(0.1 -0.1)\">\r\n       <use xlink:href=\"#DejaVuSans-49\"/>\r\n       <use x=\"63.623047\" xlink:href=\"#DejaVuSans-53\"/>\r\n       <use x=\"127.246094\" xlink:href=\"#DejaVuSans-48\"/>\r\n       <use x=\"190.869141\" xlink:href=\"#DejaVuSans-48\"/>\r\n       <use x=\"254.492188\" xlink:href=\"#DejaVuSans-48\"/>\r\n      </g>\r\n     </g>\r\n    </g>\r\n    <g id=\"ytick_4\">\r\n     <g id=\"line2d_10\">\r\n      <g>\r\n       <use style=\"stroke:#000000;stroke-width:0.8;\" x=\"59.690625\" xlink:href=\"#m13a60872a9\" y=\"97.296852\"/>\r\n      </g>\r\n     </g>\r\n     <g id=\"text_11\">\r\n      <!-- 20000 -->\r\n      <g transform=\"translate(20.878125 101.09607)scale(0.1 -0.1)\">\r\n       <use xlink:href=\"#DejaVuSans-50\"/>\r\n       <use x=\"63.623047\" xlink:href=\"#DejaVuSans-48\"/>\r\n       <use x=\"127.246094\" xlink:href=\"#DejaVuSans-48\"/>\r\n       <use x=\"190.869141\" xlink:href=\"#DejaVuSans-48\"/>\r\n       <use x=\"254.492188\" xlink:href=\"#DejaVuSans-48\"/>\r\n      </g>\r\n     </g>\r\n    </g>\r\n    <g id=\"ytick_5\">\r\n     <g id=\"line2d_11\">\r\n      <g>\r\n       <use style=\"stroke:#000000;stroke-width:0.8;\" x=\"59.690625\" xlink:href=\"#m13a60872a9\" y=\"64.532692\"/>\r\n      </g>\r\n     </g>\r\n     <g id=\"text_12\">\r\n      <!-- 25000 -->\r\n      <g transform=\"translate(20.878125 68.331911)scale(0.1 -0.1)\">\r\n       <use xlink:href=\"#DejaVuSans-50\"/>\r\n       <use x=\"63.623047\" xlink:href=\"#DejaVuSans-53\"/>\r\n       <use x=\"127.246094\" xlink:href=\"#DejaVuSans-48\"/>\r\n       <use x=\"190.869141\" xlink:href=\"#DejaVuSans-48\"/>\r\n       <use x=\"254.492188\" xlink:href=\"#DejaVuSans-48\"/>\r\n      </g>\r\n     </g>\r\n    </g>\r\n    <g id=\"ytick_6\">\r\n     <g id=\"line2d_12\">\r\n      <g>\r\n       <use style=\"stroke:#000000;stroke-width:0.8;\" x=\"59.690625\" xlink:href=\"#m13a60872a9\" y=\"31.768533\"/>\r\n      </g>\r\n     </g>\r\n     <g id=\"text_13\">\r\n      <!-- 30000 -->\r\n      <g transform=\"translate(20.878125 35.567751)scale(0.1 -0.1)\">\r\n       <defs>\r\n        <path d=\"M 40.578125 39.3125 \r\nQ 47.65625 37.796875 51.625 33 \r\nQ 55.609375 28.21875 55.609375 21.1875 \r\nQ 55.609375 10.40625 48.1875 4.484375 \r\nQ 40.765625 -1.421875 27.09375 -1.421875 \r\nQ 22.515625 -1.421875 17.65625 -0.515625 \r\nQ 12.796875 0.390625 7.625 2.203125 \r\nL 7.625 11.71875 \r\nQ 11.71875 9.328125 16.59375 8.109375 \r\nQ 21.484375 6.890625 26.8125 6.890625 \r\nQ 36.078125 6.890625 40.9375 10.546875 \r\nQ 45.796875 14.203125 45.796875 21.1875 \r\nQ 45.796875 27.640625 41.28125 31.265625 \r\nQ 36.765625 34.90625 28.71875 34.90625 \r\nL 20.21875 34.90625 \r\nL 20.21875 43.015625 \r\nL 29.109375 43.015625 \r\nQ 36.375 43.015625 40.234375 45.921875 \r\nQ 44.09375 48.828125 44.09375 54.296875 \r\nQ 44.09375 59.90625 40.109375 62.90625 \r\nQ 36.140625 65.921875 28.71875 65.921875 \r\nQ 24.65625 65.921875 20.015625 65.03125 \r\nQ 15.375 64.15625 9.8125 62.3125 \r\nL 9.8125 71.09375 \r\nQ 15.4375 72.65625 20.34375 73.4375 \r\nQ 25.25 74.21875 29.59375 74.21875 \r\nQ 40.828125 74.21875 47.359375 69.109375 \r\nQ 53.90625 64.015625 53.90625 55.328125 \r\nQ 53.90625 49.265625 50.4375 45.09375 \r\nQ 46.96875 40.921875 40.578125 39.3125 \r\nz\r\n\" id=\"DejaVuSans-51\"/>\r\n       </defs>\r\n       <use xlink:href=\"#DejaVuSans-51\"/>\r\n       <use x=\"63.623047\" xlink:href=\"#DejaVuSans-48\"/>\r\n       <use x=\"127.246094\" xlink:href=\"#DejaVuSans-48\"/>\r\n       <use x=\"190.869141\" xlink:href=\"#DejaVuSans-48\"/>\r\n       <use x=\"254.492188\" xlink:href=\"#DejaVuSans-48\"/>\r\n      </g>\r\n     </g>\r\n    </g>\r\n    <g id=\"text_14\">\r\n     <!-- number of features -->\r\n     <g transform=\"translate(14.798438 164.085625)rotate(-90)scale(0.1 -0.1)\">\r\n      <defs>\r\n       <path d=\"M 34.28125 27.484375 \r\nQ 23.390625 27.484375 19.1875 25 \r\nQ 14.984375 22.515625 14.984375 16.5 \r\nQ 14.984375 11.71875 18.140625 8.90625 \r\nQ 21.296875 6.109375 26.703125 6.109375 \r\nQ 34.1875 6.109375 38.703125 11.40625 \r\nQ 43.21875 16.703125 43.21875 25.484375 \r\nL 43.21875 27.484375 \r\nz\r\nM 52.203125 31.203125 \r\nL 52.203125 0 \r\nL 43.21875 0 \r\nL 43.21875 8.296875 \r\nQ 40.140625 3.328125 35.546875 0.953125 \r\nQ 30.953125 -1.421875 24.3125 -1.421875 \r\nQ 15.921875 -1.421875 10.953125 3.296875 \r\nQ 6 8.015625 6 15.921875 \r\nQ 6 25.140625 12.171875 29.828125 \r\nQ 18.359375 34.515625 30.609375 34.515625 \r\nL 43.21875 34.515625 \r\nL 43.21875 35.40625 \r\nQ 43.21875 41.609375 39.140625 45 \r\nQ 35.0625 48.390625 27.6875 48.390625 \r\nQ 23 48.390625 18.546875 47.265625 \r\nQ 14.109375 46.140625 10.015625 43.890625 \r\nL 10.015625 52.203125 \r\nQ 14.9375 54.109375 19.578125 55.046875 \r\nQ 24.21875 56 28.609375 56 \r\nQ 40.484375 56 46.34375 49.84375 \r\nQ 52.203125 43.703125 52.203125 31.203125 \r\nz\r\n\" id=\"DejaVuSans-97\"/>\r\n      </defs>\r\n      <use xlink:href=\"#DejaVuSans-110\"/>\r\n      <use x=\"63.378906\" xlink:href=\"#DejaVuSans-117\"/>\r\n      <use x=\"126.757812\" xlink:href=\"#DejaVuSans-109\"/>\r\n      <use x=\"224.169922\" xlink:href=\"#DejaVuSans-98\"/>\r\n      <use x=\"287.646484\" xlink:href=\"#DejaVuSans-101\"/>\r\n      <use x=\"349.169922\" xlink:href=\"#DejaVuSans-114\"/>\r\n      <use x=\"390.283203\" xlink:href=\"#DejaVuSans-32\"/>\r\n      <use x=\"422.070312\" xlink:href=\"#DejaVuSans-111\"/>\r\n      <use x=\"483.251953\" xlink:href=\"#DejaVuSans-102\"/>\r\n      <use x=\"518.457031\" xlink:href=\"#DejaVuSans-32\"/>\r\n      <use x=\"550.244141\" xlink:href=\"#DejaVuSans-102\"/>\r\n      <use x=\"585.449219\" xlink:href=\"#DejaVuSans-101\"/>\r\n      <use x=\"646.972656\" xlink:href=\"#DejaVuSans-97\"/>\r\n      <use x=\"708.251953\" xlink:href=\"#DejaVuSans-116\"/>\r\n      <use x=\"747.460938\" xlink:href=\"#DejaVuSans-117\"/>\r\n      <use x=\"810.839844\" xlink:href=\"#DejaVuSans-114\"/>\r\n      <use x=\"849.703125\" xlink:href=\"#DejaVuSans-101\"/>\r\n      <use x=\"911.226562\" xlink:href=\"#DejaVuSans-115\"/>\r\n     </g>\r\n    </g>\r\n   </g>\r\n   <g id=\"patch_3\">\r\n    <path d=\"M 59.690625 224.64 \r\nL 59.690625 7.2 \r\n\" style=\"fill:none;stroke:#000000;stroke-linecap:square;stroke-linejoin:miter;stroke-width:0.8;\"/>\r\n   </g>\r\n   <g id=\"patch_4\">\r\n    <path d=\"M 394.490625 224.64 \r\nL 394.490625 7.2 \r\n\" style=\"fill:none;stroke:#000000;stroke-linecap:square;stroke-linejoin:miter;stroke-width:0.8;\"/>\r\n   </g>\r\n   <g id=\"patch_5\">\r\n    <path d=\"M 59.690625 224.64 \r\nL 394.490625 224.64 \r\n\" style=\"fill:none;stroke:#000000;stroke-linecap:square;stroke-linejoin:miter;stroke-width:0.8;\"/>\r\n   </g>\r\n   <g id=\"patch_6\">\r\n    <path d=\"M 59.690625 7.2 \r\nL 394.490625 7.2 \r\n\" style=\"fill:none;stroke:#000000;stroke-linecap:square;stroke-linejoin:miter;stroke-width:0.8;\"/>\r\n   </g>\r\n  </g>\r\n </g>\r\n <defs>\r\n  <clipPath id=\"p4316e055a9\">\r\n   <rect height=\"217.44\" width=\"334.8\" x=\"59.690625\" y=\"7.2\"/>\r\n  </clipPath>\r\n </defs>\r\n</svg>\r\n",
      "image/png": "[encoded data removed]"
     },
     "metadata": {
      "needs_background": "light"
     }
    }
   ],
   "source": [
    "thrlist =  np.linspace(0,100,101).astype(int)\n",
    "seln = [sum(getselcol(dfs,t)) for t in thrlist]\n",
    "plt.scatter(thrlist,seln)\n",
    "plt.xlabel('threshold number of sequenes')\n",
    "plt.ylabel('number of features')"
   ]
  },
  {
   "cell_type": "code",
   "execution_count": 34,
   "metadata": {},
   "outputs": [],
   "source": [
    "sel20 = getselcol(dfs,20)\n",
    "df20 = df_int.loc[:,sel20]"
   ]
  },
  {
   "cell_type": "code",
   "execution_count": 35,
   "metadata": {},
   "outputs": [
    {
     "output_type": "execute_result",
     "data": {
      "text/plain": "34483"
     },
     "metadata": {},
     "execution_count": 35
    }
   ],
   "source": [
    "len(sel20)"
   ]
  },
  {
   "cell_type": "code",
   "execution_count": 36,
   "metadata": {},
   "outputs": [
    {
     "output_type": "execute_result",
     "data": {
      "text/plain": "34483"
     },
     "metadata": {},
     "execution_count": 36
    }
   ],
   "source": [
    "len(df_int.columns)"
   ]
  },
  {
   "cell_type": "code",
   "execution_count": 37,
   "metadata": {},
   "outputs": [
    {
     "output_type": "execute_result",
     "data": {
      "text/plain": "'log.label'"
     },
     "metadata": {},
     "execution_count": 37
    }
   ],
   "source": [
    "df_int.columns[-1]"
   ]
  },
  {
   "cell_type": "code",
   "execution_count": 38,
   "metadata": {},
   "outputs": [],
   "source": [
    "df20.to_pickle('df20.pkl')"
   ]
  },
  {
   "cell_type": "code",
   "execution_count": 39,
   "metadata": {},
   "outputs": [],
   "source": [
    "df20.to_csv('df20.csv')"
   ]
  },
  {
   "cell_type": "code",
   "execution_count": 40,
   "metadata": {},
   "outputs": [],
   "source": [
    "#sel10 = getselcol(dfs,10)\n",
    "#df10 = df_int.loc[:,sel10]\n",
    "\n",
    "#sel15 = getselcol(dfs,15)\n",
    "#df15 = df_int.loc[:,sel15]"
   ]
  },
  {
   "cell_type": "code",
   "execution_count": 41,
   "metadata": {},
   "outputs": [],
   "source": [
    "#df10.to_csv('df10.csv')\n",
    "#df15.to_csv('df15.csv')"
   ]
  },
  {
   "cell_type": "code",
   "execution_count": 42,
   "metadata": {},
   "outputs": [],
   "source": [
    "len(df20.columns)\n",
    "pat_feat20 = list(df20.columns)"
   ]
  },
  {
   "cell_type": "code",
   "execution_count": 43,
   "metadata": {},
   "outputs": [
    {
     "output_type": "execute_result",
     "data": {
      "text/plain": "2398"
     },
     "metadata": {},
     "execution_count": 43
    }
   ],
   "source": [
    "len(df20.columns)"
   ]
  },
  {
   "cell_type": "code",
   "execution_count": 44,
   "metadata": {},
   "outputs": [
    {
     "output_type": "execute_result",
     "data": {
      "text/plain": "34480"
     },
     "metadata": {},
     "execution_count": 44
    }
   ],
   "source": [
    "pat_fulllist = [pat for cppats in cppat.values() for pat in cppats]\n",
    "len([pat for cppats in cppat.values() for pat in cppats])"
   ]
  },
  {
   "cell_type": "code",
   "execution_count": 45,
   "metadata": {},
   "outputs": [],
   "source": [
    "#load dataset\n",
    "# df20 = pd.read_csv('df20.csv')\n",
    "# dfvz = pd.read_csv(\"FullDataSet-UpdatedSM.csv\")\n",
    "\n",
    "#Define X and y\n",
    "Xp_names = df20.loc[:,'..AA':'V...'].columns\n",
    "Xz_names = dfvz.loc[:,'z1.1':'z4.3'].columns\n",
    "Xv_names = dfvz.loc[:,'vhse1.1':'vhse4.8'].columns\n",
    "Xvz_names = list(Xz_names)+list(Xv_names) #zscale and vhse combined #(67278, 44)\n",
    "Xpvz_names = list(Xvz_names)+list(Xp_names)#pattern and zscale, vhse combined #(67278, 2440)\n",
    "Xpvz=pd.concat([dfvz.loc[:,Xvz_names],df20.loc[:,list(Xp_names)]],axis=1)"
   ]
  },
  {
   "cell_type": "code",
   "execution_count": 46,
   "metadata": {},
   "outputs": [],
   "source": [
    "Xpvz_seq = pd.concat([df20.loc[:,'seq'],Xpvz.loc[:,list(Xpvz_names)]],axis=1)\n",
    "Xpvz_seq.set_index('seq',drop=True, inplace = True)"
   ]
  },
  {
   "cell_type": "code",
   "execution_count": 47,
   "metadata": {},
   "outputs": [
    {
     "output_type": "execute_result",
     "data": {
      "text/plain": "True"
     },
     "metadata": {},
     "execution_count": 47
    }
   ],
   "source": [
    "#Xpvz_names # save this ordering of features in extracted dataframe\n",
    "list(Xpvz.columns)\n",
    "Xpvz_names == list(Xpvz.columns)"
   ]
  },
  {
   "cell_type": "code",
   "execution_count": 48,
   "metadata": {},
   "outputs": [],
   "source": [
    "#save the dictionary to be for feature selection\n",
    "\n",
    "feat_extdict = dict(zip(['z','vhse', 'pat_feat20','Xpvz_names'],[zfeat, vhse, pat_feat20,Xpvz_names]))\n",
    "pickle.dump(feat_extdict, open(\"feature_extractor_dict_cor.pickle\", \"wb\")) "
   ]
  },
  {
   "cell_type": "code",
   "execution_count": null,
   "metadata": {},
   "outputs": [],
   "source": [
    "####********can start here*********##\n"
   ]
  },
  {
   "cell_type": "code",
   "execution_count": 49,
   "metadata": {},
   "outputs": [],
   "source": [
    "\n",
    "feat_extdict  = pickle.load(open(\"feature_extractor_dict_cor.pickle\", \"rb\"))"
   ]
  },
  {
   "cell_type": "code",
   "execution_count": 50,
   "metadata": {},
   "outputs": [
    {
     "output_type": "execute_result",
     "data": {
      "text/plain": "dict_keys(['z', 'vhse', 'pat_feat20', 'Xpvz_names'])"
     },
     "metadata": {},
     "execution_count": 50
    }
   ],
   "source": [
    "feat_extdict.keys()"
   ]
  },
  {
   "cell_type": "code",
   "execution_count": 51,
   "metadata": {},
   "outputs": [],
   "source": [
    "#example extraction - #make function of this\n",
    "\n",
    "#seq_ex = dfvz['seq'][345]\n",
    "seq_ex = 'MNKG'\n",
    "\n",
    "ext_feat = dict()\n",
    "ext_feat[seq_ex] = dict()\n",
    "for pos,b in enumerate(seq_ex):\n",
    "    for featn in range(8):\n",
    "        ext_feat[seq_ex]['vhse'+str(pos+1)+'.'+str(featn+1)] = feat_extdict['vhse'][featn+1][b]\n",
    "    for featn in range(3):\n",
    "        ext_feat[seq_ex]['z'+str(pos+1)+'.'+str(featn+1)] = feat_extdict['z'][featn+1][b] \n",
    "        \n",
    "#verify the extraction\n",
    "#pd.concat([dfvz.iloc[345], pd.DataFrame(ext_feat)],axis =1,join='inner')\n",
    "\n",
    "for pat in feat_extdict['pat_feat20']:\n",
    "    ext_feat[seq_ex][pat] = int(pd.notnull(re.search(pat,seq_ex)))"
   ]
  },
  {
   "cell_type": "code",
   "execution_count": 52,
   "metadata": {},
   "outputs": [
    {
     "output_type": "execute_result",
     "data": {
      "text/plain": "      z1.1  z1.2  z1.3  z2.1  z2.2  z2.3  z3.1  z3.2  z3.3  z4.1  ...  L...  \\\nMNKG -2.49 -0.27 -0.41  3.22  1.45  0.84  2.84  1.41 -3.14  2.23  ...   0.0   \n\n      K...  M...  F...  P...  S...  T...  W...  Y...  V...  \nMNKG   0.0   1.0   0.0   0.0   0.0   0.0   0.0   0.0   0.0  \n\n[1 rows x 2440 columns]",
      "text/html": "<div>\n<style scoped>\n    .dataframe tbody tr th:only-of-type {\n        vertical-align: middle;\n    }\n\n    .dataframe tbody tr th {\n        vertical-align: top;\n    }\n\n    .dataframe thead th {\n        text-align: right;\n    }\n</style>\n<table border=\"1\" class=\"dataframe\">\n  <thead>\n    <tr style=\"text-align: right;\">\n      <th></th>\n      <th>z1.1</th>\n      <th>z1.2</th>\n      <th>z1.3</th>\n      <th>z2.1</th>\n      <th>z2.2</th>\n      <th>z2.3</th>\n      <th>z3.1</th>\n      <th>z3.2</th>\n      <th>z3.3</th>\n      <th>z4.1</th>\n      <th>...</th>\n      <th>L...</th>\n      <th>K...</th>\n      <th>M...</th>\n      <th>F...</th>\n      <th>P...</th>\n      <th>S...</th>\n      <th>T...</th>\n      <th>W...</th>\n      <th>Y...</th>\n      <th>V...</th>\n    </tr>\n  </thead>\n  <tbody>\n    <tr>\n      <th>MNKG</th>\n      <td>-2.49</td>\n      <td>-0.27</td>\n      <td>-0.41</td>\n      <td>3.22</td>\n      <td>1.45</td>\n      <td>0.84</td>\n      <td>2.84</td>\n      <td>1.41</td>\n      <td>-3.14</td>\n      <td>2.23</td>\n      <td>...</td>\n      <td>0.0</td>\n      <td>0.0</td>\n      <td>1.0</td>\n      <td>0.0</td>\n      <td>0.0</td>\n      <td>0.0</td>\n      <td>0.0</td>\n      <td>0.0</td>\n      <td>0.0</td>\n      <td>0.0</td>\n    </tr>\n  </tbody>\n</table>\n<p>1 rows × 2440 columns</p>\n</div>"
     },
     "metadata": {},
     "execution_count": 52
    }
   ],
   "source": [
    "len(ext_feat[seq_ex])\n",
    "featext_df = pd.DataFrame(ext_feat).T\n",
    "featext_df.loc[:,feat_extdict['Xpvz_names']]"
   ]
  },
  {
   "cell_type": "code",
   "execution_count": 53,
   "metadata": {},
   "outputs": [],
   "source": [
    "import re\n",
    "def feat_extractor(seqs, ft_dict):\n",
    "    #seqs: array of sequences to extract features from\n",
    "    #ft_dict: feature extraction dict\n",
    "    \n",
    "    ext_feat = dict()\n",
    "    for seq_ex in seqs:\n",
    "        ext_feat[seq_ex] = dict()\n",
    "        for pos,b in enumerate(seq_ex):\n",
    "            for featn in range(8):\n",
    "                ext_feat[seq_ex]['vhse'+str(pos+1)+'.'+str(featn+1)] = ft_dict['vhse'][featn+1][b]\n",
    "            for featn in range(3):\n",
    "                ext_feat[seq_ex]['z'+str(pos+1)+'.'+str(featn+1)] = ft_dict['z'][featn+1][b]\n",
    "\n",
    "        for pat in feat_extdict['pat_feat20']:\n",
    "            ext_feat[seq_ex][pat] = int(pd.notnull(re.search(pat,seq_ex)))\n",
    "    \n",
    "    featext_df = pd.DataFrame(ext_feat).T\n",
    "    return(featext_df.loc[:,ft_dict['Xpvz_names']])"
   ]
  },
  {
   "cell_type": "code",
   "execution_count": 54,
   "metadata": {},
   "outputs": [
    {
     "output_type": "execute_result",
     "data": {
      "text/plain": "      z1.1  z1.2  z1.3  z2.1  z2.2  z2.3  z3.1  z3.2  z3.3  z4.1  ...  L...  \\\nMNKG -2.49 -0.27 -0.41  3.22  1.45  0.84  2.84  1.41 -3.14  2.23  ...   0.0   \n\n      K...  M...  F...  P...  S...  T...  W...  Y...  V...  \nMNKG   0.0   1.0   0.0   0.0   0.0   0.0   0.0   0.0   0.0  \n\n[1 rows x 2440 columns]",
      "text/html": "<div>\n<style scoped>\n    .dataframe tbody tr th:only-of-type {\n        vertical-align: middle;\n    }\n\n    .dataframe tbody tr th {\n        vertical-align: top;\n    }\n\n    .dataframe thead th {\n        text-align: right;\n    }\n</style>\n<table border=\"1\" class=\"dataframe\">\n  <thead>\n    <tr style=\"text-align: right;\">\n      <th></th>\n      <th>z1.1</th>\n      <th>z1.2</th>\n      <th>z1.3</th>\n      <th>z2.1</th>\n      <th>z2.2</th>\n      <th>z2.3</th>\n      <th>z3.1</th>\n      <th>z3.2</th>\n      <th>z3.3</th>\n      <th>z4.1</th>\n      <th>...</th>\n      <th>L...</th>\n      <th>K...</th>\n      <th>M...</th>\n      <th>F...</th>\n      <th>P...</th>\n      <th>S...</th>\n      <th>T...</th>\n      <th>W...</th>\n      <th>Y...</th>\n      <th>V...</th>\n    </tr>\n  </thead>\n  <tbody>\n    <tr>\n      <th>MNKG</th>\n      <td>-2.49</td>\n      <td>-0.27</td>\n      <td>-0.41</td>\n      <td>3.22</td>\n      <td>1.45</td>\n      <td>0.84</td>\n      <td>2.84</td>\n      <td>1.41</td>\n      <td>-3.14</td>\n      <td>2.23</td>\n      <td>...</td>\n      <td>0.0</td>\n      <td>0.0</td>\n      <td>1.0</td>\n      <td>0.0</td>\n      <td>0.0</td>\n      <td>0.0</td>\n      <td>0.0</td>\n      <td>0.0</td>\n      <td>0.0</td>\n      <td>0.0</td>\n    </tr>\n  </tbody>\n</table>\n<p>1 rows × 2440 columns</p>\n</div>"
     },
     "metadata": {},
     "execution_count": 54
    }
   ],
   "source": [
    "#usage example 1\n",
    "feat_extractor(['MNKG'],feat_extdict)"
   ]
  },
  {
   "cell_type": "code",
   "execution_count": 55,
   "metadata": {},
   "outputs": [
    {
     "output_type": "execute_result",
     "data": {
      "text/plain": "      z1.1  z1.2  z1.3  z2.1  z2.2  z2.3  z3.1  z3.2  z3.3  z4.1  ...  L...  \\\nMNKG -2.49 -0.27 -0.41  3.22  1.45  0.84  2.84  1.41 -3.14  2.23  ...   0.0   \nARAA  0.07 -1.73  0.09  2.88  2.52 -3.44  0.07 -1.73  0.09  0.07  ...   0.0   \n\n      K...  M...  F...  P...  S...  T...  W...  Y...  V...  \nMNKG   0.0   1.0   0.0   0.0   0.0   0.0   0.0   0.0   0.0  \nARAA   0.0   0.0   0.0   0.0   0.0   0.0   0.0   0.0   0.0  \n\n[2 rows x 2440 columns]",
      "text/html": "<div>\n<style scoped>\n    .dataframe tbody tr th:only-of-type {\n        vertical-align: middle;\n    }\n\n    .dataframe tbody tr th {\n        vertical-align: top;\n    }\n\n    .dataframe thead th {\n        text-align: right;\n    }\n</style>\n<table border=\"1\" class=\"dataframe\">\n  <thead>\n    <tr style=\"text-align: right;\">\n      <th></th>\n      <th>z1.1</th>\n      <th>z1.2</th>\n      <th>z1.3</th>\n      <th>z2.1</th>\n      <th>z2.2</th>\n      <th>z2.3</th>\n      <th>z3.1</th>\n      <th>z3.2</th>\n      <th>z3.3</th>\n      <th>z4.1</th>\n      <th>...</th>\n      <th>L...</th>\n      <th>K...</th>\n      <th>M...</th>\n      <th>F...</th>\n      <th>P...</th>\n      <th>S...</th>\n      <th>T...</th>\n      <th>W...</th>\n      <th>Y...</th>\n      <th>V...</th>\n    </tr>\n  </thead>\n  <tbody>\n    <tr>\n      <th>MNKG</th>\n      <td>-2.49</td>\n      <td>-0.27</td>\n      <td>-0.41</td>\n      <td>3.22</td>\n      <td>1.45</td>\n      <td>0.84</td>\n      <td>2.84</td>\n      <td>1.41</td>\n      <td>-3.14</td>\n      <td>2.23</td>\n      <td>...</td>\n      <td>0.0</td>\n      <td>0.0</td>\n      <td>1.0</td>\n      <td>0.0</td>\n      <td>0.0</td>\n      <td>0.0</td>\n      <td>0.0</td>\n      <td>0.0</td>\n      <td>0.0</td>\n      <td>0.0</td>\n    </tr>\n    <tr>\n      <th>ARAA</th>\n      <td>0.07</td>\n      <td>-1.73</td>\n      <td>0.09</td>\n      <td>2.88</td>\n      <td>2.52</td>\n      <td>-3.44</td>\n      <td>0.07</td>\n      <td>-1.73</td>\n      <td>0.09</td>\n      <td>0.07</td>\n      <td>...</td>\n      <td>0.0</td>\n      <td>0.0</td>\n      <td>0.0</td>\n      <td>0.0</td>\n      <td>0.0</td>\n      <td>0.0</td>\n      <td>0.0</td>\n      <td>0.0</td>\n      <td>0.0</td>\n      <td>0.0</td>\n    </tr>\n  </tbody>\n</table>\n<p>2 rows × 2440 columns</p>\n</div>"
     },
     "metadata": {},
     "execution_count": 55
    }
   ],
   "source": [
    "#usage example 2\n",
    "feat_extractor(['MNKG','ARAA'],feat_extdict)"
   ]
  },
  {
   "cell_type": "code",
   "execution_count": 56,
   "metadata": {},
   "outputs": [
    {
     "output_type": "execute_result",
     "data": {
      "text/plain": "      z1.1  z1.2  z1.3  z2.1  z2.2  z2.3  z3.1  z3.2  z3.3  z4.1  ...  L...  \\\nseq                                                               ...         \nMNKG -2.49 -0.27 -0.41  3.22  1.45  0.84  2.84  1.41 -3.14  2.23  ...     0   \nARAA  0.07 -1.73  0.09  2.88  2.52 -3.44  0.07 -1.73  0.09  0.07  ...     0   \n\n      K...  M...  F...  P...  S...  T...  W...  Y...  V...  \nseq                                                         \nMNKG     0     1     0     0     0     0     0     0     0  \nARAA     0     0     0     0     0     0     0     0     0  \n\n[2 rows x 2440 columns]",
      "text/html": "<div>\n<style scoped>\n    .dataframe tbody tr th:only-of-type {\n        vertical-align: middle;\n    }\n\n    .dataframe tbody tr th {\n        vertical-align: top;\n    }\n\n    .dataframe thead th {\n        text-align: right;\n    }\n</style>\n<table border=\"1\" class=\"dataframe\">\n  <thead>\n    <tr style=\"text-align: right;\">\n      <th></th>\n      <th>z1.1</th>\n      <th>z1.2</th>\n      <th>z1.3</th>\n      <th>z2.1</th>\n      <th>z2.2</th>\n      <th>z2.3</th>\n      <th>z3.1</th>\n      <th>z3.2</th>\n      <th>z3.3</th>\n      <th>z4.1</th>\n      <th>...</th>\n      <th>L...</th>\n      <th>K...</th>\n      <th>M...</th>\n      <th>F...</th>\n      <th>P...</th>\n      <th>S...</th>\n      <th>T...</th>\n      <th>W...</th>\n      <th>Y...</th>\n      <th>V...</th>\n    </tr>\n    <tr>\n      <th>seq</th>\n      <th></th>\n      <th></th>\n      <th></th>\n      <th></th>\n      <th></th>\n      <th></th>\n      <th></th>\n      <th></th>\n      <th></th>\n      <th></th>\n      <th></th>\n      <th></th>\n      <th></th>\n      <th></th>\n      <th></th>\n      <th></th>\n      <th></th>\n      <th></th>\n      <th></th>\n      <th></th>\n      <th></th>\n    </tr>\n  </thead>\n  <tbody>\n    <tr>\n      <th>MNKG</th>\n      <td>-2.49</td>\n      <td>-0.27</td>\n      <td>-0.41</td>\n      <td>3.22</td>\n      <td>1.45</td>\n      <td>0.84</td>\n      <td>2.84</td>\n      <td>1.41</td>\n      <td>-3.14</td>\n      <td>2.23</td>\n      <td>...</td>\n      <td>0</td>\n      <td>0</td>\n      <td>1</td>\n      <td>0</td>\n      <td>0</td>\n      <td>0</td>\n      <td>0</td>\n      <td>0</td>\n      <td>0</td>\n      <td>0</td>\n    </tr>\n    <tr>\n      <th>ARAA</th>\n      <td>0.07</td>\n      <td>-1.73</td>\n      <td>0.09</td>\n      <td>2.88</td>\n      <td>2.52</td>\n      <td>-3.44</td>\n      <td>0.07</td>\n      <td>-1.73</td>\n      <td>0.09</td>\n      <td>0.07</td>\n      <td>...</td>\n      <td>0</td>\n      <td>0</td>\n      <td>0</td>\n      <td>0</td>\n      <td>0</td>\n      <td>0</td>\n      <td>0</td>\n      <td>0</td>\n      <td>0</td>\n      <td>0</td>\n    </tr>\n  </tbody>\n</table>\n<p>2 rows × 2440 columns</p>\n</div>"
     },
     "metadata": {},
     "execution_count": 56
    }
   ],
   "source": [
    "#verify the matrix\n",
    "Xpvz_seq.loc[['MNKG','ARAA'],:]"
   ]
  }
 ]
}
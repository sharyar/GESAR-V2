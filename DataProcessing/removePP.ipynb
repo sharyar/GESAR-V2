{
 "metadata": {
  "language_info": {
   "codemirror_mode": {
    "name": "ipython",
    "version": 3
   },
   "file_extension": ".py",
   "mimetype": "text/x-python",
   "name": "python",
   "nbconvert_exporter": "python",
   "pygments_lexer": "ipython3",
   "version": "3.8.5-final"
  },
  "orig_nbformat": 2,
  "kernelspec": {
   "name": "python_defaultSpec_1601702647990",
   "display_name": "Python 3.8.5 64-bit ('gesar-2': conda)"
  }
 },
 "nbformat": 4,
 "nbformat_minor": 2,
 "cells": [
  {
   "source": [
    "# Minor Script for Update Data\n",
    "\n",
    "Removes samples that start with Proline-Proline. "
   ],
   "cell_type": "markdown",
   "metadata": {}
  },
  {
   "cell_type": "code",
   "execution_count": 1,
   "metadata": {},
   "outputs": [],
   "source": [
    "import pandas as pd\n",
    "import numpy as np\n",
    "import itertools\n",
    "import matplotlib.pyplot as plt\n",
    "from matplotlib import cm\n",
    "import copy\n",
    "import re"
   ]
  },
  {
   "cell_type": "code",
   "execution_count": 2,
   "metadata": {},
   "outputs": [
    {
     "output_type": "execute_result",
     "data": {
      "text/plain": "Index(['seq', 'label', 'log.label', 'z1.1', 'z1.2', 'z1.3', 'z2.1', 'z2.2',\n       'z2.3', 'z3.1', 'z3.2', 'z3.3', 'z4.1', 'z4.2', 'z4.3',\n       'z3.linear.pred', 'z3.svm.pred', 'z3.tree.pred', 'z3.knn.pred',\n       'vhse1.1', 'vhse1.2', 'vhse1.3', 'vhse1.4', 'vhse1.5', 'vhse1.6',\n       'vhse1.7', 'vhse1.8', 'vhse2.1', 'vhse2.2', 'vhse2.3', 'vhse2.4',\n       'vhse2.5', 'vhse2.6', 'vhse2.7', 'vhse2.8', 'vhse3.1', 'vhse3.2',\n       'vhse3.3', 'vhse3.4', 'vhse3.5', 'vhse3.6', 'vhse3.7', 'vhse3.8',\n       'vhse4.1', 'vhse4.2', 'vhse4.3', 'vhse4.4', 'vhse4.5', 'vhse4.6',\n       'vhse4.7', 'vhse4.8', 'vhse.linear.pred', 'vhse.svm.pred',\n       'vhse.tree.pred', 'vhse.knn.pred'],\n      dtype='object')"
     },
     "metadata": {},
     "execution_count": 2
    }
   ],
   "source": [
    "df = pd.read_csv(\"../DataFiles/FullDataSet.csv\", engine='c', low_memory=False)\n",
    "df.columns"
   ]
  },
  {
   "cell_type": "code",
   "execution_count": 3,
   "metadata": {},
   "outputs": [
    {
     "output_type": "execute_result",
     "data": {
      "text/plain": "(67278, 55)"
     },
     "metadata": {},
     "execution_count": 3
    }
   ],
   "source": [
    "df.shape"
   ]
  },
  {
   "cell_type": "code",
   "execution_count": 4,
   "metadata": {},
   "outputs": [],
   "source": [
    "patternDel = re.compile('P{2}', re.IGNORECASE)\n",
    "\n",
    "patternDel2 = \"(^P{2})\""
   ]
  },
  {
   "cell_type": "code",
   "execution_count": 5,
   "metadata": {
    "tags": []
   },
   "outputs": [],
   "source": [
    "filter = df['seq'].str.contains(patternDel2)"
   ]
  },
  {
   "cell_type": "code",
   "execution_count": 6,
   "metadata": {},
   "outputs": [],
   "source": [
    "dfPP = df[filter]\n",
    "dfNPP = df[~filter]"
   ]
  },
  {
   "cell_type": "code",
   "execution_count": 7,
   "metadata": {},
   "outputs": [
    {
     "output_type": "execute_result",
     "data": {
      "text/plain": "        seq     label  log.label  z1.1  z1.2  z1.3  z2.1  z2.2  z2.3  z3.1  \\\n187    PPDF  0.001252  -2.902403 -1.22  0.88  2.23 -1.22  0.88  2.23  3.64   \n231    PPSV  0.001191  -2.924052 -1.22  0.88  2.23 -1.22  0.88  2.23  1.96   \n493    PPAE  0.001590  -2.798696 -1.22  0.88  2.23 -1.22  0.88  2.23  0.07   \n643    PPNK  0.001197  -2.921862 -1.22  0.88  2.23 -1.22  0.88  2.23  3.22   \n890    PPPG  0.001438  -2.842217 -1.22  0.88  2.23 -1.22  0.88  2.23 -1.22   \n...     ...       ...        ...   ...   ...   ...   ...   ...   ...   ...   \n64680  PPGK  0.001005  -2.997726 -1.22  0.88  2.23 -1.22  0.88  2.23  2.23   \n64681  PPQE  0.000994  -3.002785 -1.22  0.88  2.23 -1.22  0.88  2.23  2.18   \n65075  PPDM  0.000981  -3.008522 -1.22  0.88  2.23 -1.22  0.88  2.23  3.64   \n66279  PPEG  0.000036  -4.439897 -1.22  0.88  2.23 -1.22  0.88  2.23  3.08   \n66951  PPEQ  0.000036  -4.439897 -1.22  0.88  2.23 -1.22  0.88  2.23  3.08   \n\n       ...  vhse4.3  vhse4.4  vhse4.5  vhse4.6  vhse4.7  vhse4.8  \\\n187    ...     0.96    -0.16     0.25     0.28    -1.33    -0.20   \n231    ...    -0.17    -1.91     0.22    -1.40    -0.24    -0.03   \n493    ...     0.10     0.36    -2.16    -0.17     0.91     0.02   \n643    ...     0.70     0.80     1.64     0.67     1.63     0.13   \n890    ...    -2.63     2.28    -0.53    -1.18     2.01    -1.34   \n...    ...      ...      ...      ...      ...      ...      ...   \n64680  ...     0.70     0.80     1.64     0.67     1.63     0.13   \n64681  ...     0.10     0.36    -2.16    -0.17     0.91     0.02   \n65075  ...     0.43     0.00     0.23     0.10    -0.86    -0.68   \n66279  ...    -2.63     2.28    -0.53    -1.18     2.01    -1.34   \n66951  ...     0.18     0.16     0.09     0.42    -0.20    -0.41   \n\n       vhse.linear.pred  vhse.svm.pred  vhse.tree.pred  vhse.knn.pred  \n187           -3.076044      -2.930196       -3.023441      -2.925578  \n231           -3.078445      -2.879370       -3.023441      -2.808953  \n493           -3.145684      -2.832170       -3.023441      -2.802198  \n643           -3.115680      -2.801786       -3.023441      -2.860298  \n890           -3.081460      -2.844369       -3.023441      -2.839205  \n...                 ...            ...             ...            ...  \n64680               NaN            NaN             NaN            NaN  \n64681               NaN            NaN             NaN            NaN  \n65075               NaN            NaN             NaN            NaN  \n66279               NaN            NaN             NaN            NaN  \n66951               NaN            NaN             NaN            NaN  \n\n[327 rows x 55 columns]",
      "text/html": "<div>\n<style scoped>\n    .dataframe tbody tr th:only-of-type {\n        vertical-align: middle;\n    }\n\n    .dataframe tbody tr th {\n        vertical-align: top;\n    }\n\n    .dataframe thead th {\n        text-align: right;\n    }\n</style>\n<table border=\"1\" class=\"dataframe\">\n  <thead>\n    <tr style=\"text-align: right;\">\n      <th></th>\n      <th>seq</th>\n      <th>label</th>\n      <th>log.label</th>\n      <th>z1.1</th>\n      <th>z1.2</th>\n      <th>z1.3</th>\n      <th>z2.1</th>\n      <th>z2.2</th>\n      <th>z2.3</th>\n      <th>z3.1</th>\n      <th>...</th>\n      <th>vhse4.3</th>\n      <th>vhse4.4</th>\n      <th>vhse4.5</th>\n      <th>vhse4.6</th>\n      <th>vhse4.7</th>\n      <th>vhse4.8</th>\n      <th>vhse.linear.pred</th>\n      <th>vhse.svm.pred</th>\n      <th>vhse.tree.pred</th>\n      <th>vhse.knn.pred</th>\n    </tr>\n  </thead>\n  <tbody>\n    <tr>\n      <th>187</th>\n      <td>PPDF</td>\n      <td>0.001252</td>\n      <td>-2.902403</td>\n      <td>-1.22</td>\n      <td>0.88</td>\n      <td>2.23</td>\n      <td>-1.22</td>\n      <td>0.88</td>\n      <td>2.23</td>\n      <td>3.64</td>\n      <td>...</td>\n      <td>0.96</td>\n      <td>-0.16</td>\n      <td>0.25</td>\n      <td>0.28</td>\n      <td>-1.33</td>\n      <td>-0.20</td>\n      <td>-3.076044</td>\n      <td>-2.930196</td>\n      <td>-3.023441</td>\n      <td>-2.925578</td>\n    </tr>\n    <tr>\n      <th>231</th>\n      <td>PPSV</td>\n      <td>0.001191</td>\n      <td>-2.924052</td>\n      <td>-1.22</td>\n      <td>0.88</td>\n      <td>2.23</td>\n      <td>-1.22</td>\n      <td>0.88</td>\n      <td>2.23</td>\n      <td>1.96</td>\n      <td>...</td>\n      <td>-0.17</td>\n      <td>-1.91</td>\n      <td>0.22</td>\n      <td>-1.40</td>\n      <td>-0.24</td>\n      <td>-0.03</td>\n      <td>-3.078445</td>\n      <td>-2.879370</td>\n      <td>-3.023441</td>\n      <td>-2.808953</td>\n    </tr>\n    <tr>\n      <th>493</th>\n      <td>PPAE</td>\n      <td>0.001590</td>\n      <td>-2.798696</td>\n      <td>-1.22</td>\n      <td>0.88</td>\n      <td>2.23</td>\n      <td>-1.22</td>\n      <td>0.88</td>\n      <td>2.23</td>\n      <td>0.07</td>\n      <td>...</td>\n      <td>0.10</td>\n      <td>0.36</td>\n      <td>-2.16</td>\n      <td>-0.17</td>\n      <td>0.91</td>\n      <td>0.02</td>\n      <td>-3.145684</td>\n      <td>-2.832170</td>\n      <td>-3.023441</td>\n      <td>-2.802198</td>\n    </tr>\n    <tr>\n      <th>643</th>\n      <td>PPNK</td>\n      <td>0.001197</td>\n      <td>-2.921862</td>\n      <td>-1.22</td>\n      <td>0.88</td>\n      <td>2.23</td>\n      <td>-1.22</td>\n      <td>0.88</td>\n      <td>2.23</td>\n      <td>3.22</td>\n      <td>...</td>\n      <td>0.70</td>\n      <td>0.80</td>\n      <td>1.64</td>\n      <td>0.67</td>\n      <td>1.63</td>\n      <td>0.13</td>\n      <td>-3.115680</td>\n      <td>-2.801786</td>\n      <td>-3.023441</td>\n      <td>-2.860298</td>\n    </tr>\n    <tr>\n      <th>890</th>\n      <td>PPPG</td>\n      <td>0.001438</td>\n      <td>-2.842217</td>\n      <td>-1.22</td>\n      <td>0.88</td>\n      <td>2.23</td>\n      <td>-1.22</td>\n      <td>0.88</td>\n      <td>2.23</td>\n      <td>-1.22</td>\n      <td>...</td>\n      <td>-2.63</td>\n      <td>2.28</td>\n      <td>-0.53</td>\n      <td>-1.18</td>\n      <td>2.01</td>\n      <td>-1.34</td>\n      <td>-3.081460</td>\n      <td>-2.844369</td>\n      <td>-3.023441</td>\n      <td>-2.839205</td>\n    </tr>\n    <tr>\n      <th>...</th>\n      <td>...</td>\n      <td>...</td>\n      <td>...</td>\n      <td>...</td>\n      <td>...</td>\n      <td>...</td>\n      <td>...</td>\n      <td>...</td>\n      <td>...</td>\n      <td>...</td>\n      <td>...</td>\n      <td>...</td>\n      <td>...</td>\n      <td>...</td>\n      <td>...</td>\n      <td>...</td>\n      <td>...</td>\n      <td>...</td>\n      <td>...</td>\n      <td>...</td>\n      <td>...</td>\n    </tr>\n    <tr>\n      <th>64680</th>\n      <td>PPGK</td>\n      <td>0.001005</td>\n      <td>-2.997726</td>\n      <td>-1.22</td>\n      <td>0.88</td>\n      <td>2.23</td>\n      <td>-1.22</td>\n      <td>0.88</td>\n      <td>2.23</td>\n      <td>2.23</td>\n      <td>...</td>\n      <td>0.70</td>\n      <td>0.80</td>\n      <td>1.64</td>\n      <td>0.67</td>\n      <td>1.63</td>\n      <td>0.13</td>\n      <td>NaN</td>\n      <td>NaN</td>\n      <td>NaN</td>\n      <td>NaN</td>\n    </tr>\n    <tr>\n      <th>64681</th>\n      <td>PPQE</td>\n      <td>0.000994</td>\n      <td>-3.002785</td>\n      <td>-1.22</td>\n      <td>0.88</td>\n      <td>2.23</td>\n      <td>-1.22</td>\n      <td>0.88</td>\n      <td>2.23</td>\n      <td>2.18</td>\n      <td>...</td>\n      <td>0.10</td>\n      <td>0.36</td>\n      <td>-2.16</td>\n      <td>-0.17</td>\n      <td>0.91</td>\n      <td>0.02</td>\n      <td>NaN</td>\n      <td>NaN</td>\n      <td>NaN</td>\n      <td>NaN</td>\n    </tr>\n    <tr>\n      <th>65075</th>\n      <td>PPDM</td>\n      <td>0.000981</td>\n      <td>-3.008522</td>\n      <td>-1.22</td>\n      <td>0.88</td>\n      <td>2.23</td>\n      <td>-1.22</td>\n      <td>0.88</td>\n      <td>2.23</td>\n      <td>3.64</td>\n      <td>...</td>\n      <td>0.43</td>\n      <td>0.00</td>\n      <td>0.23</td>\n      <td>0.10</td>\n      <td>-0.86</td>\n      <td>-0.68</td>\n      <td>NaN</td>\n      <td>NaN</td>\n      <td>NaN</td>\n      <td>NaN</td>\n    </tr>\n    <tr>\n      <th>66279</th>\n      <td>PPEG</td>\n      <td>0.000036</td>\n      <td>-4.439897</td>\n      <td>-1.22</td>\n      <td>0.88</td>\n      <td>2.23</td>\n      <td>-1.22</td>\n      <td>0.88</td>\n      <td>2.23</td>\n      <td>3.08</td>\n      <td>...</td>\n      <td>-2.63</td>\n      <td>2.28</td>\n      <td>-0.53</td>\n      <td>-1.18</td>\n      <td>2.01</td>\n      <td>-1.34</td>\n      <td>NaN</td>\n      <td>NaN</td>\n      <td>NaN</td>\n      <td>NaN</td>\n    </tr>\n    <tr>\n      <th>66951</th>\n      <td>PPEQ</td>\n      <td>0.000036</td>\n      <td>-4.439897</td>\n      <td>-1.22</td>\n      <td>0.88</td>\n      <td>2.23</td>\n      <td>-1.22</td>\n      <td>0.88</td>\n      <td>2.23</td>\n      <td>3.08</td>\n      <td>...</td>\n      <td>0.18</td>\n      <td>0.16</td>\n      <td>0.09</td>\n      <td>0.42</td>\n      <td>-0.20</td>\n      <td>-0.41</td>\n      <td>NaN</td>\n      <td>NaN</td>\n      <td>NaN</td>\n      <td>NaN</td>\n    </tr>\n  </tbody>\n</table>\n<p>327 rows × 55 columns</p>\n</div>"
     },
     "metadata": {},
     "execution_count": 7
    }
   ],
   "source": [
    "dfPP"
   ]
  },
  {
   "cell_type": "code",
   "execution_count": 8,
   "metadata": {},
   "outputs": [],
   "source": [
    "dfNPP.to_csv('../DataFiles/FullDataSet-UpdatedSM.csv', index=False)"
   ]
  }
 ]
}